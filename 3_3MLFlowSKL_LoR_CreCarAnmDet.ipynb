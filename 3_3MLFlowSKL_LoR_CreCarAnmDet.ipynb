{
 "cells": [
  {
   "cell_type": "markdown",
   "id": "d5832c8c-b132-4789-8cf9-f287c4da531f",
   "metadata": {},
   "source": [
    "<a id='1MLF1'></a>\n",
    "## 1. Contents of MLFlow Logistic Regression Model with scikit-learn to predict Credit Card frauds or anomalies\n",
    "\n",
    "* [2 About Dataset](#2MLF1)\n",
    "* [3 Loading the dataset](#3MLF1)\n",
    "* [4 Data Processing](#4MLF1)</br>\n",
    "    [4.1 Creating \"normal\" and \"anomaly\" dataframes](#41MLF1lrskl)</br>\n",
    "    [4.2 Splitting train, test and validate sets](#42MLF1lrskl)</br>\n",
    "    [4.3 Rescaling or Standardizing the train, test and validate sets](#43MLF1lrskl)</br>\n",
    "* [5 Model training](#5MLF1lrskl)</br>\n",
    "    * [5.1 Logging and Viewing MLFlow runs](#51MLF1lrskl)</br>\n",
    "* [6 Loading a Logged Model](#6MLF1lrskl)</br>\n",
    "* [7 Model Validation (Parameter Tuning) with MLFlow](#7MLF1lrskl)</br>\n",
    "    [7.1 Parameter Tunning - Broad Seaerch](#71MLF1lrskl)</br>\n",
    "    [7.2 Parameter Tunning - Guided Seaerch](#72MLF1lrskl)</br>\n",
    "* [8. Deploying the Model on Local Model Serving mode](#8MLF1lrskl)</br>\n",
    "* [9. Querying the Model](#9MLF1lrskl)</br>\n",
    "    [9.1 Querying Without Scaling](#91MLF1lrskl)</br>\n",
    "    [9.2 Querying With Scaling](#92MLF1lrskl)</br>\n",
    "    [9.3 Batch Querying](#93MLF1lrskl)</br>\n",
    "* [References](#RefMLF1lrskl)</br>"
   ]
  },
  {
   "cell_type": "markdown",
   "id": "c2bea429-e63d-4b29-86fd-61be961ce867",
   "metadata": {},
   "source": [
    "In this notebook we will analyze the credit card data set in order to later build simple anomaly detection models.\n",
    "\n",
    "data source: https://www.kaggle.com/datasets/mlg-ulb/creditcardfraud"
   ]
  },
  {
   "cell_type": "markdown",
   "id": "1589f365-b826-4bb6-a9e6-ee35d2b392b3",
   "metadata": {},
   "source": [
    "<a id='2MLF1'></a>\n",
    "## 2. About the program\n",
    "\n",
    "### Context\n",
    "This program is about in how to build a simple logistic regression model in scikit-learn, including the process of\n",
    "k-fold cross validation to tune a hyperparameter in scikit-learn."
   ]
  },
  {
   "cell_type": "markdown",
   "id": "3ee68e95-1c61-4900-a92c-ff7bf6da55c6",
   "metadata": {},
   "source": [
    "[Return to Contents of credit card dataset analysis](#1MLF1)"
   ]
  },
  {
   "cell_type": "markdown",
   "id": "27cb3a82-1d4e-4250-a471-78ea1a17fc51",
   "metadata": {},
   "source": [
    "<a id='3MLF1'></a>\n",
    "## 3. Loading the dataset"
   ]
  },
  {
   "cell_type": "markdown",
   "id": "8ff185f9-799e-4876-98fa-40f24a36db3f",
   "metadata": {},
   "source": [
    "In the code below, you will find that some of the imports are unnecessary, such as importing all of sklearn when you only use a bit of its functionality. This is done for the purpose of displaying the version."
   ]
  },
  {
   "cell_type": "code",
   "execution_count": 69,
   "id": "8797a98e-9ed9-48c2-a914-d09f0911d840",
   "metadata": {},
   "outputs": [
    {
     "name": "stdout",
     "output_type": "stream",
     "text": [
      "seaborn: 0.11.2\n",
      "sklearn: 1.0.2\n",
      "MLFlow: 1.30.0\n"
     ]
    }
   ],
   "source": [
    "import numpy as np #Version: 1.21.5\n",
    "import pandas as pd #version 1.3.5\n",
    "import matplotlib.pyplot as plt #matplotlib version 3.5.1\n",
    "from pylab import rcParams\n",
    "rcParams['figure.figsize'] = 14,8 \n",
    "%matplotlib inline\n",
    "#Python version 3.7.13\n",
    "\n",
    "import seaborn as sns # version 0.11.2\n",
    "import sklearn # version 1.0.2\n",
    "from sklearn.linear_model import LogisticRegression\n",
    "from sklearn.model_selection import train_test_split\n",
    "from sklearn.preprocessing import StandardScaler\n",
    "from sklearn.metrics import roc_auc_score, plot_roc_curve, confusion_matrix\n",
    "from sklearn.model_selection import KFold\n",
    "\n",
    "import mlflow\n",
    "import mlflow.sklearn\n",
    "\n",
    "print(\"seaborn: {}\".format(sns.__version__))\n",
    "print(\"sklearn: {}\".format(sklearn.__version__))\n",
    "print(\"MLFlow: {}\".format(mlflow.__version__))"
   ]
  },
  {
   "cell_type": "code",
   "execution_count": 34,
   "id": "25be3ff4-5b93-4bcc-a590-c5cd3093b195",
   "metadata": {},
   "outputs": [],
   "source": [
    "cc = pd.read_csv(\"creditcard.csv\")"
   ]
  },
  {
   "cell_type": "markdown",
   "id": "c6037219-ac2b-46aa-9f6c-6f65660b5748",
   "metadata": {},
   "source": [
    "Dropping the column named `Time` because it adds very large data values that ultimately don’t have much of a correlation with the column Class. Model performance is boosted slightly simply by dropping the extraneous information"
   ]
  },
  {
   "cell_type": "code",
   "execution_count": 35,
   "id": "510b3566-f90e-4f19-bcec-cfe66b6652e4",
   "metadata": {},
   "outputs": [],
   "source": [
    "cc = cc.drop(\"Time\", axis=1)"
   ]
  },
  {
   "cell_type": "markdown",
   "id": "a5f5cd8c-0768-4b4b-8e72-70791357f15c",
   "metadata": {},
   "source": [
    "In the case of deep learning models, your model might eventually learn that the Time data does not correlate very well with the Class labels and may place less importance on nodes processing that data. Eventually, it might even ignore the Time data. However, you can speed up the learning process by cutting out these types of features from your training sets. This is because you’re sparing the models the time and resources needed to figure that out."
   ]
  },
  {
   "cell_type": "markdown",
   "id": "2b78cb2e-e68d-47e7-be14-c242a1f9c81d",
   "metadata": {},
   "source": [
    "[Return to Contents of credit card dataset analysis](#1MLF1)"
   ]
  },
  {
   "cell_type": "markdown",
   "id": "a7ca39d1-bc46-4999-82df-78bc7a4edd23",
   "metadata": {},
   "source": [
    "<a id='4MLF1'></a>\n",
    "## 4 Data Processing"
   ]
  },
  {
   "cell_type": "markdown",
   "id": "3ef7e1ab-1b06-4a1e-874b-1d7eea70133c",
   "metadata": {},
   "source": [
    "<a id='41MLF1lrskl'></a>\n",
    "### 4.1 Creating \"normal\" and \"anomaly\" dataframes"
   ]
  },
  {
   "cell_type": "markdown",
   "id": "8cbd1a88-007c-4c4a-aa01-af5a1b4aaf5b",
   "metadata": {},
   "source": [
    "This is where data analysis comes into play. Because you know that a massive disparity between the data counts in each class exists, you will now take care to specially craft the data sets so that it is ensured that a good amount of anomalies end up in each data set. "
   ]
  },
  {
   "cell_type": "markdown",
   "id": "9e3948a0-a119-4570-ae5f-263e335ed0bb",
   "metadata": {},
   "source": [
    "If we simply select 100,000 data points from \"cc\", split it into training / test / validate sets and continue, it is entirely possible that very few or even no anomalies end up in one or more of those sets. Then at that point, we would have a lot of trouble in getting the model to properly learn this task."
   ]
  },
  {
   "cell_type": "code",
   "execution_count": 36,
   "id": "a94ee07c-e038-44b9-8c28-fc4c34160656",
   "metadata": {},
   "outputs": [
    {
     "name": "stdout",
     "output_type": "stream",
     "text": [
      "Number of Anomalies records:(492, 30)\n",
      "Number of Normal records:(284315, 30)\n"
     ]
    }
   ],
   "source": [
    "print(f\"Number of Anomalies records:{cc[cc.Class == 1].shape}\")\n",
    "print(f\"Number of Normal records:{cc[cc.Class == 0].shape}\")"
   ]
  },
  {
   "cell_type": "markdown",
   "id": "6ba2cfe6-41c7-4c42-beae-005f304663cd",
   "metadata": {},
   "source": [
    "With that in mind, let’s create data frames for the normal points and for the fraudulent points. In the following cell's code, we filter out the respective values by class, and sample 50% of the entire data frame’s normal points to comprise the normal data in this context. \n",
    "\n",
    "The \"normal\" set will contain half (`frac=0.5`) of original records, randomly selected (`random_state=2020`). This new 'normal' set has top have its own new index, so we have to reset its index (`reset_index(drop=True`).\n",
    "\n",
    "By seting the random_state to a specific value, the results of the random sampling should be the same no matter how many times you repeat it, helping with reproducibility. Unfortunately, given the nature of how models learn, you cannot expect to get the same results every time for something like neural networks, for example."
   ]
  },
  {
   "cell_type": "code",
   "execution_count": 37,
   "id": "88a654fb-9cfb-49dc-bacd-30c4fb02719c",
   "metadata": {},
   "outputs": [],
   "source": [
    "normal = cc[cc.Class == 0].sample(frac=0.5, random_state=2020).reset_index(drop=True)\n",
    "anomaly = cc[cc.Class == 1]"
   ]
  },
  {
   "cell_type": "code",
   "execution_count": 38,
   "id": "14da425c-f1c2-4ec6-9d77-843101efa19b",
   "metadata": {},
   "outputs": [
    {
     "name": "stdout",
     "output_type": "stream",
     "text": [
      "Number of Anomalies records:(492, 30)\n",
      "Number of Normal records:(142158, 30)\n"
     ]
    }
   ],
   "source": [
    "print(f\"Number of Anomalies records:{anomaly[anomaly.Class == 1].shape}\")\n",
    "print(f\"Number of Normal records:{normal[normal.Class == 0].shape}\")"
   ]
  },
  {
   "cell_type": "markdown",
   "id": "a29e1a90-8ad2-4522-86cf-063f05361556",
   "metadata": {},
   "source": [
    "As we can see, there is still a big disparity between the normal points and the anomalies. <span style='background :lightgreen'>In the case of **logistic regression**, the model is still able to learn how to distinguish between the two, but in the case of **neural networks**, for example, this disparity means the model never really learns how to classify anomalies.</span> However, as we will see later we can tell the model to weigh the anomalies far more in its learning process compared to the normal points."
   ]
  },
  {
   "cell_type": "markdown",
   "id": "2b8771d8-9c66-43f0-9a7b-fcd161cb09c1",
   "metadata": {},
   "source": [
    "[Return to Contents of credit card dataset analysis](#1MLF1)"
   ]
  },
  {
   "cell_type": "markdown",
   "id": "4554657c-349a-47b5-aee0-738049ae67b5",
   "metadata": {},
   "source": [
    "<a id='42MLF1lrskl'></a>\n",
    "### 4.2 Splitting train, test and validate sets"
   ]
  },
  {
   "cell_type": "markdown",
   "id": "720bf35e-a20e-44f6-9c3c-71fcfe7ad820",
   "metadata": {},
   "source": [
    "Normally the scikitlearn `train_test_split` it is code like: \n",
    "\n",
    "x_train, x_test, y_train, y_test = train_test_split(x, y, test_size=0.2, random_state = 2020)\n",
    "\n",
    "bein y sets for the labels"
   ]
  },
  {
   "cell_type": "markdown",
   "id": "e87a3388-7441-4326-929b-eeee78f3c1bf",
   "metadata": {},
   "source": [
    "Now you can start creating the **train/test/validate** split (3 datasets). However, scikitlearn provides functionality to create **train/test** splits only (2 datasets). To get around that (that restriction), you will create **train and test** sets, and then split the **train set** again into **train and validate** sets."
   ]
  },
  {
   "cell_type": "markdown",
   "id": "110d131c-1146-4a7f-be4f-d8c6bcb23e2b",
   "metadata": {},
   "source": [
    "First, you will split the data into train and test data, keeping the normal points and anomalies separate. To do this, you will use the `train_test_split()` function from scikit-learn. Commonly passed parameters are\n",
    "> x: The x set you want to split up\n",
    "\n",
    "> y: The y set you want to split up corresponding to the x set\n",
    "\n",
    "> test_size: The proportion of data in x and y that you want to randomly sample for the test set."
   ]
  },
  {
   "cell_type": "code",
   "execution_count": 39,
   "id": "46eb4eeb-c321-4325-8b01-8157d3ab577d",
   "metadata": {},
   "outputs": [],
   "source": [
    "normal_train, normal_test = train_test_split(normal, test_size = 0.2,\n",
    "                                             random_state = 2020)\n",
    "anomaly_train, anomaly_test = train_test_split(anomaly,test_size = 0.2,\n",
    "                                               random_state = 2020)"
   ]
  },
  {
   "cell_type": "code",
   "execution_count": 40,
   "id": "3779d6df-b8a8-4aa7-9264-42a2bf525a61",
   "metadata": {},
   "outputs": [
    {
     "name": "stdout",
     "output_type": "stream",
     "text": [
      "Number of 'normal_train' records:(113726, 30)\n",
      "Number of 'normal_test' records:(28432, 30)\n"
     ]
    }
   ],
   "source": [
    "print(f\"Number of 'normal_train' records:{normal_train.shape}\")\n",
    "print(f\"Number of 'normal_test' records:{normal_test.shape}\")"
   ]
  },
  {
   "cell_type": "code",
   "execution_count": 41,
   "id": "ebfc74da-d463-403b-8c29-0c143d703a57",
   "metadata": {},
   "outputs": [
    {
     "name": "stdout",
     "output_type": "stream",
     "text": [
      "Number of 'anomaly_train' records:(393, 30)\n",
      "Number of 'anomaly_test' records:(99, 30)\n"
     ]
    }
   ],
   "source": [
    "print(f\"Number of 'anomaly_train' records:{anomaly_train.shape}\")\n",
    "print(f\"Number of 'anomaly_test' records:{anomaly_test.shape}\")"
   ]
  },
  {
   "cell_type": "markdown",
   "id": "fe787931-0602-4b83-bd1d-7cb0e4465a7f",
   "metadata": {},
   "source": [
    "Now, we can create our **training and validation sets** by calling the\n",
    "same function on the respective training sets. \n",
    "\n",
    "You don’t want to split it by 20% again, though, since the training set is already 80% of the original data set. If you used a 20% split again, the validation set would be 16% of the original data, and the training set would be 64% of the original data.\n",
    "\n",
    "You will instead be doing a 60-20-20 split for the training, testing, and validation data, respectively, and so you will be using a new test_size\n",
    "value of 0.25 to ensure these proportions hold (0.25 * 0.8 = 0.2)."
   ]
  },
  {
   "cell_type": "code",
   "execution_count": 42,
   "id": "ffc6bfb5-3a41-44f8-b30d-9582f477cde4",
   "metadata": {},
   "outputs": [],
   "source": [
    "normal_train, normal_validate = train_test_split(normal_train, \n",
    "                                                 test_size = 0.25,\n",
    "                                                 random_state = 2020)\n",
    "anomaly_train, anomaly_validate = train_test_split(anomaly_train,\n",
    "                                                   test_size = 0.25,\n",
    "                                                   random_state = 2020)"
   ]
  },
  {
   "cell_type": "code",
   "execution_count": 43,
   "id": "267e5d8f-eab2-4544-8913-31358cfb1484",
   "metadata": {},
   "outputs": [
    {
     "name": "stdout",
     "output_type": "stream",
     "text": [
      "Number of 'normal_train' records:(85294, 30)\n",
      "Number of 'normal_test' records:(28432, 30)\n",
      "Number of 'normal_validate' records:(28432, 30)\n",
      "Number of 'anomaly_train' records:(294, 30)\n",
      "Number of 'anomaly_test' records:(99, 30)\n",
      "Number of 'anomaly_validate' records:(99, 30)\n"
     ]
    }
   ],
   "source": [
    "print(f\"Number of 'normal_train' records:{normal_train.shape}\")\n",
    "print(f\"Number of 'normal_test' records:{normal_test.shape}\")\n",
    "print(f\"Number of 'normal_validate' records:{normal_validate.shape}\")\n",
    "print(f\"Number of 'anomaly_train' records:{anomaly_train.shape}\")\n",
    "print(f\"Number of 'anomaly_test' records:{anomaly_test.shape}\")\n",
    "print(f\"Number of 'anomaly_validate' records:{anomaly_validate.shape}\")"
   ]
  },
  {
   "cell_type": "markdown",
   "id": "eb352fde-27b1-4131-9c5f-71ef8bc56845",
   "metadata": {},
   "source": [
    "To create the final training, testing, and validation sets, we have to concatenate the respective normal and anomaly data splits.\n",
    "\n",
    "First, lets define x_train, x_test, and x_validate:"
   ]
  },
  {
   "cell_type": "code",
   "execution_count": 44,
   "id": "68666f40-dcec-4be1-9f2d-69c3d0bf8e5d",
   "metadata": {},
   "outputs": [],
   "source": [
    "x_train = pd.concat((normal_train, anomaly_train))\n",
    "x_test = pd.concat((normal_test, anomaly_test))\n",
    "x_validate = pd.concat((normal_validate, anomaly_validate))"
   ]
  },
  {
   "cell_type": "code",
   "execution_count": 45,
   "id": "7dde30f1-2cda-43dc-a17b-b2e5864badae",
   "metadata": {},
   "outputs": [
    {
     "name": "stdout",
     "output_type": "stream",
     "text": [
      "Number of 'x_train' records:(85588, 30)\n",
      "Number of 'x_test' records:(28531, 30)\n",
      "Number of 'x_validate' records:(28531, 30)\n"
     ]
    }
   ],
   "source": [
    "print(f\"Number of 'x_train' records:{x_train.shape}\")\n",
    "print(f\"Number of 'x_test' records:{x_test.shape}\")\n",
    "print(f\"Number of 'x_validate' records:{x_validate.shape}\")"
   ]
  },
  {
   "cell_type": "markdown",
   "id": "d1b114af-05fe-48c6-a002-31f0b9c0fc12",
   "metadata": {},
   "source": [
    "Next, **define y_train, y_test, and y_validate**(target values):"
   ]
  },
  {
   "cell_type": "code",
   "execution_count": 46,
   "id": "7814cf56-9902-40a4-8c69-d3c7a1bb6abe",
   "metadata": {},
   "outputs": [],
   "source": [
    "y_train = np.array(x_train[\"Class\"])\n",
    "y_test = np.array(x_test[\"Class\"])\n",
    "y_validate = np.array(x_validate[\"Class\"])"
   ]
  },
  {
   "cell_type": "code",
   "execution_count": 47,
   "id": "acd40338-aa7b-4bcb-a751-c43d7ba14cb5",
   "metadata": {},
   "outputs": [
    {
     "name": "stdout",
     "output_type": "stream",
     "text": [
      "Number of 'y_train' records:(85588,)\n",
      "Number of 'y_test' records:(28531,)\n",
      "Number of 'y_validate' records:(28531,)\n"
     ]
    }
   ],
   "source": [
    "print(f\"Number of 'y_train' records:{y_train.shape}\")\n",
    "print(f\"Number of 'y_test' records:{y_test.shape}\")\n",
    "print(f\"Number of 'y_validate' records:{y_validate.shape}\")"
   ]
  },
  {
   "cell_type": "code",
   "execution_count": 48,
   "id": "01589927-605a-48d8-9ae9-15c6c75f2f8e",
   "metadata": {},
   "outputs": [
    {
     "data": {
      "text/plain": [
       "array([0, 0, 0], dtype=int64)"
      ]
     },
     "execution_count": 48,
     "metadata": {},
     "output_type": "execute_result"
    }
   ],
   "source": [
    "y_train[0:3]"
   ]
  },
  {
   "cell_type": "code",
   "execution_count": 49,
   "id": "12387976-45d6-4dc7-bf2b-e7df41c2ea7f",
   "metadata": {},
   "outputs": [
    {
     "data": {
      "text/plain": [
       "array([1, 1, 1], dtype=int64)"
      ]
     },
     "execution_count": 49,
     "metadata": {},
     "output_type": "execute_result"
    }
   ],
   "source": [
    "y_train[-3:]"
   ]
  },
  {
   "cell_type": "markdown",
   "id": "7ded96d3-7e80-4b83-b879-0f2ea26cddbb",
   "metadata": {},
   "source": [
    "Seems that last rows contain the anomalies labels"
   ]
  },
  {
   "cell_type": "markdown",
   "id": "1e9cea9a-163a-4674-9538-502e99621b94",
   "metadata": {},
   "source": [
    "**Finally**, we have to drop the column `Class` in the x sets since it would  defeat the purpose of teaching the model how to learn what makes up a normal and a fraudulent transaction if you gave it the label directly."
   ]
  },
  {
   "cell_type": "code",
   "execution_count": 50,
   "id": "efda4a0b-d229-4d57-9a2b-96206be4d798",
   "metadata": {},
   "outputs": [],
   "source": [
    "x_train = x_train.drop(\"Class\", axis=1)\n",
    "x_test = x_test.drop(\"Class\", axis=1)\n",
    "x_validate = x_validate.drop(\"Class\", axis=1)"
   ]
  },
  {
   "cell_type": "code",
   "execution_count": 51,
   "id": "55cb8d86-f237-4db4-b51f-0ac71cc3b3ce",
   "metadata": {},
   "outputs": [
    {
     "name": "stdout",
     "output_type": "stream",
     "text": [
      "Number of 'x_train' records:(85588, 29)\n",
      "Number of 'y_train' records:(85588,)\n",
      "Number of 'x_test' records:(28531, 29)\n",
      "Number of 'y_test' records:(28531,)\n",
      "Number of 'x_validate' records:(28531, 29)\n",
      "Number of 'y_validate' records:(28531,)\n"
     ]
    }
   ],
   "source": [
    "print(f\"Number of 'x_train' records:{x_train.shape}\")\n",
    "print(f\"Number of 'y_train' records:{y_train.shape}\")\n",
    "print(f\"Number of 'x_test' records:{x_test.shape}\")\n",
    "print(f\"Number of 'y_test' records:{y_test.shape}\")\n",
    "print(f\"Number of 'x_validate' records:{x_validate.shape}\")\n",
    "print(f\"Number of 'y_validate' records:{y_validate.shape}\")"
   ]
  },
  {
   "cell_type": "markdown",
   "id": "84d9510d-2fcd-472f-93ec-b70bb2818ccc",
   "metadata": {},
   "source": [
    "[Return to Contents of credit card dataset analysis](#1MLF1)"
   ]
  },
  {
   "cell_type": "markdown",
   "id": "f25586e4-3bde-46f8-add9-908166b5bf0f",
   "metadata": {},
   "source": [
    "<a id='43MLF1lrskl'></a>\n",
    "### 4.3 Feature scaling for train, test and validate sets"
   ]
  },
  {
   "cell_type": "code",
   "execution_count": 52,
   "id": "fbc84cdd-d788-429d-9945-96f4aaa9333e",
   "metadata": {},
   "outputs": [],
   "source": [
    "scaler = StandardScaler() #creates an instance of StandardScaler\n",
    "# trains the scaler by fitting on the entire dataframe\n",
    "# so that it standardizes all of your data in the same way. \n",
    "scaler.fit(pd.concat((normal, anomaly)).drop(\"Class\", axis=1))\n",
    "\n",
    "# applies the scaler to each \"x\" set to ensure the best results\n",
    "# since you don’t want to standardize x_train, x_test, and x_validate \n",
    "# in their own ways since it would create discrepancies in \n",
    "# the data and would be problematic for the model. \n",
    "x_train = scaler.transform(x_train)\n",
    "x_test = scaler.transform(x_test)\n",
    "x_validate = scaler.transform(x_validate)"
   ]
  },
  {
   "cell_type": "code",
   "execution_count": 53,
   "id": "dccbc72f-a141-4f96-863e-c60b64ab7d78",
   "metadata": {},
   "outputs": [
    {
     "data": {
      "text/plain": [
       "numpy.ndarray"
      ]
     },
     "execution_count": 53,
     "metadata": {},
     "output_type": "execute_result"
    }
   ],
   "source": [
    "type(x_train)"
   ]
  },
  {
   "cell_type": "code",
   "execution_count": 54,
   "id": "1fc7c718-7dcc-4dbb-8498-308c3446acb6",
   "metadata": {},
   "outputs": [
    {
     "name": "stdout",
     "output_type": "stream",
     "text": [
      "(85588, 29)\n"
     ]
    }
   ],
   "source": [
    "print(x_train.shape)"
   ]
  },
  {
   "cell_type": "markdown",
   "id": "1931d551-0817-47fa-8706-577d227d1ee1",
   "metadata": {},
   "source": [
    "[Return to Contents of credit card dataset analysis](#1MLF1)"
   ]
  },
  {
   "cell_type": "markdown",
   "id": "09aa54aa-b19b-4c80-848b-52235c1b72b3",
   "metadata": {},
   "source": [
    "<a id='5MLF1lrskl'></a>\n",
    "### 5 Model training with MLFlow"
   ]
  },
  {
   "cell_type": "markdown",
   "id": "6f2453c9-73fc-478d-984d-2ceaae246d95",
   "metadata": {},
   "source": [
    "Let’s define the train and test functions to organize the code. This is also where you start integrating MLFlow into your code. Here is the train function:"
   ]
  },
  {
   "cell_type": "code",
   "execution_count": 55,
   "id": "6708e548-4a32-4090-84e8-0cbc131db989",
   "metadata": {},
   "outputs": [],
   "source": [
    "def train(sk_model, x_train, y_train):\n",
    "    '''\n",
    "    Trains a scikit model and logs a mlflow accuracy\n",
    "    '''\n",
    "    sk_model = sk_model.fit(x_train, y_train)\n",
    "    train_acc = sk_model.score(x_train, y_train)\n",
    "    # defining a training accuracy metric that will be\n",
    "    # logged by MLFlow\n",
    "    mlflow.log_metric(\"train_acc\", train_acc)\n",
    "    print(f\"Train Accuracy: {train_acc:.3%}\")"
   ]
  },
  {
   "cell_type": "markdown",
   "id": "a0c2d03e-dc0e-4d51-8a86-4bd9b17f84b0",
   "metadata": {},
   "source": [
    "Within the `train` function we create a new metric specifically for the training accuracy so we can keep track of this metric. Furthermore, we are telling MLFlow to log this metric, so that MLFlow will keep track of this value in each run.\n",
    "\n",
    "When you log multiple runs, you can compare this metric across each of those runs so that you can pick a model with the best AUC score for example."
   ]
  },
  {
   "cell_type": "markdown",
   "id": "e22c3868-4233-4cd2-aa86-9c736bbb3dba",
   "metadata": {},
   "source": [
    "Now lets create an evaluate function"
   ]
  },
  {
   "cell_type": "code",
   "execution_count": 56,
   "id": "123809d3-5cef-45fa-890a-c0d88382312f",
   "metadata": {},
   "outputs": [],
   "source": [
    "def evaluate(sk_model, x_test, y_test):\n",
    "    '''\n",
    "    Evaluates a scikit model. Reporting the\n",
    "    AUC score and accuracy and Plots for the \n",
    "    confusion matrix and the ROC curve are generated,\n",
    "    and both the metrics and the graphs are logged to MLFlow\n",
    "    '''\n",
    "    eval_acc = sk_model.score(x_test, y_test)\n",
    "    preds = sk_model.predict(x_test)\n",
    "    auc_score = roc_auc_score(y_test, preds)\n",
    "    # tells MLFlow to log two more metrics: the AUC\n",
    "    # score and the accuracy on the test set\n",
    "    mlflow.log_metric(\"eval_acc\", eval_acc)\n",
    "    mlflow.log_metric(\"auc_score\", auc_score)\n",
    "    print(f\"AUC Score: {auc_score:.3%}\")\n",
    "    print(f\"Eval Accuracy: {eval_acc:.3%}\")\n",
    "    roc_plot = plot_roc_curve(sk_model, x_test, y_test,\n",
    "                              name='Scikit-learn ROC Curve')\n",
    "    plt.savefig(\"sklearn_roc_plot.png\")\n",
    "    plt.show()\n",
    "    plt.clf()\n",
    "    conf_matrix = confusion_matrix(y_test, preds)\n",
    "    ax = sns.heatmap(conf_matrix, annot=True,fmt='g')\n",
    "    ax.invert_xaxis()\n",
    "    ax.invert_yaxis()\n",
    "    plt.ylabel('Actual')\n",
    "    plt.xlabel('Predicted')\n",
    "    plt.title(\"Confusion Matrix\")\n",
    "    plt.savefig(\"sklearn_conf_matrix.png\")\n",
    "    # tells MLFlow to save the plots generated by\n",
    "    # matplotlib and by seaborn. \n",
    "    mlflow.log_artifact(\"sklearn_roc_plot.png\")\n",
    "    mlflow.log_artifact(\"sklearn_conf_matrix.png\")"
   ]
  },
  {
   "cell_type": "markdown",
   "id": "7fb062ec-c254-4263-97fb-c8b92b1fd17b",
   "metadata": {},
   "source": [
    "With the `evaluate` function we can look at each of the graphs for each training run and do so in a highly organized manner. You must first\n",
    "save these plots, which you do in the same directory. Then, you must tell\n",
    "MLFlow to grab the artifacts to log them like so make sure that they have the same names as the graphs you saved."
   ]
  },
  {
   "cell_type": "markdown",
   "id": "952b7ca2-b828-4886-ba22-191b9bc9745b",
   "metadata": {},
   "source": [
    "[Return to Contents of credit card dataset analysis](#1MLF1)"
   ]
  },
  {
   "cell_type": "markdown",
   "id": "41f76ff6-5c43-4ac4-998c-bb9aa5a42387",
   "metadata": {},
   "source": [
    "<a id='51MLF1lrskl'></a>\n",
    "### 5.1 Logging and Viewing MLFlow runs"
   ]
  },
  {
   "cell_type": "markdown",
   "id": "f52552fc-2285-4b4a-8c4e-9fda9fb5cc25",
   "metadata": {},
   "source": [
    "Let’s run the code that actually sets the experiment name, starts the MLFlow run, and executes all this code:"
   ]
  },
  {
   "cell_type": "code",
   "execution_count": 57,
   "id": "aee8cf69-71f6-4def-96e7-4bb35c7006f3",
   "metadata": {},
   "outputs": [],
   "source": [
    "# instanties a `LogisticRegression` model (`sk_model`)\n",
    "sk_model = LogisticRegression(random_state=None,\n",
    "                              max_iter=400, solver='newton-cg')"
   ]
  },
  {
   "cell_type": "code",
   "execution_count": 58,
   "id": "53fa55c4-d039-40b7-8094-cdc5beb69ebb",
   "metadata": {},
   "outputs": [
    {
     "data": {
      "text/plain": [
       "<Experiment: artifact_location='file:///C:/Users/conza/SridharBeginMLFlow/mlruns/1', creation_time=1667427801561, experiment_id='1', last_update_time=1667427801561, lifecycle_stage='active', name='scikit_learn_experiment', tags={}>"
      ]
     },
     "execution_count": 58,
     "metadata": {},
     "output_type": "execute_result"
    }
   ],
   "source": [
    "#Set the given experiment as the active experiment.\n",
    "# The experiment must either be specified by name via `experiment_name` or by ID via `experiment_id`.\n",
    "mlflow.set_experiment(\"scikit_learn_experiment\")"
   ]
  },
  {
   "cell_type": "markdown",
   "id": "c4967b75-8eaa-442f-991f-f48668ae5cb6",
   "metadata": {},
   "source": [
    "What this does is that it puts the `run` under whatever experiment name\n",
    "you pass in as a parameter. If that name does not exist, MLFlow will create\n",
    "a new one under that name and put the run there"
   ]
  },
  {
   "cell_type": "markdown",
   "id": "a3276052-1966-404c-8fc0-8ee020426aa8",
   "metadata": {},
   "source": [
    "The following cell has many embeeded explanations for each line.\n",
    "\n",
    "For the line `mlflow.sklearn.log_model(sk_model, \"log_reg_model\")`, as you will see later, most other frameworks follow the same style when saving the model. \n",
    "\n",
    "There are a couple exceptions, but we will cover this when the time comes. In this case, you are calling mlflow.sklearn, but if you wanted to log a PySpark model, you would do mlflow.spark. \n",
    "\n",
    "Basically, the framework the model was built in must match the framework module of MLFlow when logging the model. It is possible to create a custom “model” in MLFlow and log this as well, something that is covered in the documentation. \n",
    "\n",
    "You can use this custom model to then specify how you want the prediction function to work. If you’d like to process the data some more before making predictions, for example, MLFlow allows you to specify this extra functionality through the use of the MLFlow PyFunc module. "
   ]
  },
  {
   "cell_type": "code",
   "execution_count": 59,
   "id": "9363f93e-1510-45cd-a47f-ab3b89b6659d",
   "metadata": {},
   "outputs": [
    {
     "name": "stdout",
     "output_type": "stream",
     "text": [
      "Train Accuracy: 99.893%\n",
      "AUC Score: 85.341%\n",
      "Eval Accuracy: 99.874%\n"
     ]
    },
    {
     "name": "stderr",
     "output_type": "stream",
     "text": [
      "C:\\Users\\conza\\Anaconda3\\envs\\TFKERAS\\lib\\site-packages\\sklearn\\utils\\deprecation.py:87: FutureWarning: Function plot_roc_curve is deprecated; Function :func:`plot_roc_curve` is deprecated in 1.0 and will be removed in 1.2. Use one of the class methods: :meth:`sklearn.metric.RocCurveDisplay.from_predictions` or :meth:`sklearn.metric.RocCurveDisplay.from_estimator`.\n",
      "  warnings.warn(msg, category=FutureWarning)\n"
     ]
    },
    {
     "data": {
      "image/png": "[encoded data removed]",
      "text/plain": [
       "<Figure size 1400x800 with 1 Axes>"
      ]
     },
     "metadata": {},
     "output_type": "display_data"
    },
    {
     "name": "stdout",
     "output_type": "stream",
     "text": [
      "Model run:  cd38920dad234123895c8d4ff278a96d\n"
     ]
    },
    {
     "data": {
      "image/png": "[encoded data removed]",
      "text/plain": [
       "<Figure size 1400x800 with 2 Axes>"
      ]
     },
     "metadata": {},
     "output_type": "display_data"
    }
   ],
   "source": [
    "# The 'with` line of code allows to chunk all of the code under \n",
    "# the context of one MLFlow run. \n",
    "# This ensures that there are no discrepancies between where\n",
    "# your metrics are being logged, and that it doesn’t create two\n",
    "# different runs when you mean it to log everything for the same run.\n",
    "with mlflow.start_run():\n",
    "    # calls for `train` function passing a previously created instance\n",
    "    # of a scikit logistic Regression model. train will record the\n",
    "    # score or accuracy of the model\n",
    "    train(sk_model, x_train, y_train)\n",
    "    # evaluate the model loging the auc and eval_acc scores and also\n",
    "    # logging its plots\n",
    "    evaluate(sk_model, x_test, y_test)\n",
    "    # This line of code is the general convention to use when you’re \n",
    "    # logging a model. The parameters, in order, are the model you’re\n",
    "    # saving and then the name you’re setting for the model when saving.\n",
    "    # In this case, you are saving your logistic regression model with \n",
    "    # the name `log_reg_model` in this run.\n",
    "    mlflow.sklearn.log_model(sk_model, \"log_reg_model\")\n",
    "    # This line of code essentially gets the current run that the model\n",
    "    # and metrics are being logged to and prints it out.\n",
    "    # This makes it handy if you want to retrieve the run directly from\n",
    "    # the notebook itself instead of going to the UI to do so.\n",
    "    print(\"Model run: \", mlflow.active_run().info.run_uuid)\n",
    "    # this tells MLFlow to end the current run. In cases where there\n",
    "    # is an error in the `mlflow.start_run` code block, and the run does\n",
    "    # not terminate, do this to forcibly end the current run.\n",
    "    # Basically, it is there to ensure that MLFlow stops the run after\n",
    "    # you executed all the code relevant to the current run.\n",
    "    mlflow.end_run()"
   ]
  },
  {
   "cell_type": "markdown",
   "id": "22448d05-ccdc-4d30-8b7b-d2ff36ca0543",
   "metadata": {},
   "source": [
    "You can see that MLFlow automatically generates a new experiment if it does not already exist, so you can create a new experiment directly\n",
    "from the code. You can also see that the rest of the code basically outputs as usual, except it also prints the run ID (`Model run:`) of the current MLFlow run just as you specified. You will use this later when you select the specific model that you want to serve.\n",
    "\n",
    "What you will do next is open up the UI MLFlow provides where you can actually look at all the experiments and model runs.\n",
    "\n",
    "Finally, you also log the model itself as an artifact with MLFlow.MLFlow will modularize this code so that it will work with the code provided by MLFlow to support implementations of a variety of MLOps principles"
   ]
  },
  {
   "cell_type": "markdown",
   "id": "9e36766e-28bf-4ea3-8918-ba2e8e11a7cc",
   "metadata": {},
   "source": [
    "First, open command prompt/powershell/terminal. Then, you must go into the directory that contains this notebook file. List the contents of the directory (or view this in file explorer/within Jupyter itself) and you will notice a new directory named *mlruns*."
   ]
  },
  {
   "cell_type": "markdown",
   "id": "403694f2-7c66-4186-96b4-7165dadfc140",
   "metadata": {},
   "source": [
    "What you want to do now is to make sure your command prompt, powershell, or terminal is in the same directory that contains the foldes mlruns:  \n",
    "`cd .\\SridharBeginMLFlow`)\n",
    "\n",
    "If you installed all of your packages in Conda, make sure you’ve activated the Conda environment before running the `mlflow ui -p 1234`\n",
    "\n",
    "For this use case, it is assumed to be into the current conda environment already activated. Otherwise it can be done by the command: \n",
    "\n",
    "**conda activate c:\\Users\\conza\\Anaconda3\\envs\\TFKERAS**\n",
    "\n",
    "Then just simply write the command: **mlflow ui -p 1234**\n",
    "\n",
    "The command mlflow ui hosts the MLFlow UI locally on the default port of 5000. However, the options -p 1234 tell it that you want to host it specifically on the port 1234.\n",
    "\n",
    "Now, open a browser and type in http://localhost:1234 or\n",
    "http://127.0.0.1:1234. Both should take you to the same MLFlow UI. "
   ]
  },
  {
   "cell_type": "markdown",
   "id": "b37a7252-a33f-4546-aba0-b0b9353b2fff",
   "metadata": {},
   "source": [
    "In the mlflow window, to the left are the experiments. Notice that there is an experiment titled \"Default\" and one titled \"scitkit_learn_experiment\", which is the one just created.By selecting its checkbox and after clicking on one of the Models (sklearn) another window will pop up showing much more information. "
   ]
  },
  {
   "cell_type": "markdown",
   "id": "60809e5e-64bf-4999-b058-41d07a3826de",
   "metadata": {},
   "source": [
    "You can even log graphs, along with the models themselves.<span style='background :cyan'> With MLFlow, you can stay highly organized with your experiments **even if you don’t necessarily need the deployment capabilities to the cloud services**.</span>"
   ]
  },
  {
   "cell_type": "markdown",
   "id": "155a18ac-477d-4de7-99cb-0d84ad948647",
   "metadata": {},
   "source": [
    "[Return to Contents of credit card dataset analysis](#1MLF1)"
   ]
  },
  {
   "cell_type": "markdown",
   "id": "81bdb913-7fb1-4f9d-b129-2e8f713eae78",
   "metadata": {},
   "source": [
    "<a id='6MLF1lrskl'></a>\n",
    "## 6. Loading a Logged Model"
   ]
  },
  {
   "cell_type": "markdown",
   "id": "6a672e25-943e-4fb2-9613-f7bea0fbb93e",
   "metadata": {},
   "source": [
    "Let’s briefly look at how you can load the models logged by MLFlow.\n",
    "To better understand what this path is, let’s split it up into three sections: \n",
    ">the format (runs:/), \n",
    "\n",
    ">the run ID (YOUR_RUNID_HERE), and \n",
    "\n",
    "> the model name that you used when you logged it (log_reg_model)"
   ]
  },
  {
   "cell_type": "code",
   "execution_count": 60,
   "id": "d53d2f1d-68f9-46d6-912d-6c1f1c909814",
   "metadata": {},
   "outputs": [],
   "source": [
    "# loads the second ran model\n",
    "loaded_model = mlflow.sklearn.load_model(\"runs:/fdc61ce3971944c0b1fdef3e54535544/log_reg_model\")"
   ]
  },
  {
   "cell_type": "markdown",
   "id": "1c61e294-b143-4a8b-810d-e39f735651d0",
   "metadata": {},
   "source": [
    "This is now the same model that you had when MLFlow logged it in the first place. With this, you can call something like .score() and see that it’s the same as during training:"
   ]
  },
  {
   "cell_type": "code",
   "execution_count": 61,
   "id": "6095d9fe-0abd-4904-ba7b-b9f42d8f6c02",
   "metadata": {},
   "outputs": [
    {
     "data": {
      "text/plain": [
       "0.9987382145736217"
      ]
     },
     "execution_count": 61,
     "metadata": {},
     "output_type": "execute_result"
    }
   ],
   "source": [
    "loaded_model.score(x_test, y_test)"
   ]
  },
  {
   "cell_type": "markdown",
   "id": "5143af5c-f83c-46c4-9aa5-d227b624d8da",
   "metadata": {},
   "source": [
    "This outputs the accuracy as the model is evaluated on the test set. If this truly is the same model, then the accuracy should match what was output earlier during the evaluation portion of the model run."
   ]
  },
  {
   "cell_type": "markdown",
   "id": "1c02c084-4efb-4df1-83e9-2cdcc3fdea85",
   "metadata": {},
   "source": [
    "Now you know how to load a model from a specific MLFlow run.\n",
    "\n",
    "With that, you’ve seen some of the functionality that MLFlow provides and how it can help in keeping your prototyping experiments much more organized.\n",
    "\n",
    "As you will see shortly, this entire pipeline that you just\n",
    "explored is pretty much all you need to recreate the train, test, validate pipeline that you saw earlier.\n",
    "\n",
    "Before you move on to looking at how you can use MLFlow with other frameworks, let’s go over how you can use MLFlow functionality to vastly improve the model validation process."
   ]
  },
  {
   "cell_type": "markdown",
   "id": "f5b92cd4-9046-4854-8620-54496fb18317",
   "metadata": {},
   "source": [
    "[Return to Contents of credit card dataset analysis](#1MLF1)"
   ]
  },
  {
   "cell_type": "markdown",
   "id": "1c78e38a-7979-46a8-bc00-329fc9102548",
   "metadata": {},
   "source": [
    "<a id='7MLF1lrskl'></a>\n",
    "## 7. Model Validation (Parameter Tuning) with MLFlow"
   ]
  },
  {
   "cell_type": "markdown",
   "id": "205f7a89-ca1f-49cf-b29c-76d9934bb9fe",
   "metadata": {},
   "source": [
    "<a id='71MLF1lrskl'></a>\n",
    "### 7.1 Parameter Tunning - Broad Seaerch"
   ]
  },
  {
   "cell_type": "markdown",
   "id": "64d45d30-1235-4d14-b472-27a7f5912618",
   "metadata": {},
   "source": [
    "Simmilar as in program `LR_SKL_CreCarAnmDet1.ipynb` the model validation will be implemented assigning anomaly weights on the features or variables and using a 'KFold' cross-validation (from sklearn.model_selection import KFold)"
   ]
  },
  {
   "cell_type": "code",
   "execution_count": 62,
   "id": "0c8fdfa1-616e-4591-a525-0a14dc19bd7e",
   "metadata": {},
   "outputs": [],
   "source": [
    "# list of weights to iterate over:\n",
    "anomaly_weights = [1, 5, 10, 15]\n",
    "# define the number of folds\n",
    "num_folds = 5\n",
    "# instatnties a kfold cross validator or generator\n",
    "kfold = KFold(n_splits=num_folds, shuffle=True, random_state=2020)"
   ]
  },
  {
   "cell_type": "markdown",
   "id": "09ab72b7-8ef2-4d83-b5df-6844c951a4e4",
   "metadata": {},
   "source": [
    "Now lets code the validation script, which is simmilar to the one in the program `LR_SKL_CreCarAnmDet1.ipynb`but with some MLFlow code additions to log everything during the validation process"
   ]
  },
  {
   "cell_type": "code",
   "execution_count": 67,
   "id": "03f89749-f9b5-4bdf-a8cf-ac667d883e9c",
   "metadata": {},
   "outputs": [
    {
     "name": "stdout",
     "output_type": "stream",
     "text": [
      "---------------\n",
      "fold 1\n",
      "Anomaly Weight: 10\n",
      "AUC: 0.9243845612801126\n",
      "eval_acc: 0.9982477659015244\n",
      "---------------\n",
      "fold 2\n",
      "Anomaly Weight: 10\n",
      "AUC: 0.9753109687146626\n",
      "eval_acc: 0.9980722046968104\n",
      "---------------\n",
      "fold 3\n",
      "Anomaly Weight: 10\n",
      "AUC: 0.9313783507133262\n",
      "eval_acc: 0.9985979670522257\n",
      "---------------\n",
      "fold 4\n",
      "Anomaly Weight: 10\n",
      "AUC: 0.8943851628367561\n",
      "eval_acc: 0.9985979670522257\n",
      "---------------\n",
      "fold 5\n",
      "Anomaly Weight: 10\n",
      "AUC: 0.8820013855427915\n",
      "eval_acc: 0.9985979670522257\n",
      "\n",
      "++++++++++++++++\n",
      "Averages for Anomaly Weight: 10\n",
      "AUC:  0.9214920858175297\n",
      "Accuracy:  0.9984227743510024\n",
      "++++++++++++++++---------------\n",
      "fold 1\n",
      "Anomaly Weight: 50\n",
      "AUC: 0.922626164937577\n",
      "eval_acc: 0.9947432977045734\n",
      "---------------\n",
      "fold 2\n",
      "Anomaly Weight: 50\n",
      "AUC: 0.9734640030154541\n",
      "eval_acc: 0.9943918682089029\n",
      "---------------\n",
      "fold 3\n",
      "Anomaly Weight: 50\n",
      "AUC: 0.9296190262939033\n",
      "eval_acc: 0.99509288468279\n",
      "---------------\n",
      "fold 4\n",
      "Anomaly Weight: 50\n",
      "AUC: 0.9183271172480171\n",
      "eval_acc: 0.9940413599719593\n",
      "---------------\n",
      "fold 5\n",
      "Anomaly Weight: 50\n",
      "AUC: 0.8797162739238779\n",
      "eval_acc: 0.9940413599719593\n",
      "\n",
      "++++++++++++++++\n",
      "Averages for Anomaly Weight: 50\n",
      "AUC:  0.9247505170837659\n",
      "Accuracy:  0.994462154108037\n",
      "++++++++++++++++---------------\n",
      "fold 1\n",
      "Anomaly Weight: 100\n",
      "AUC: 0.9205160893265342\n",
      "eval_acc: 0.990537935868232\n",
      "---------------\n",
      "fold 2\n",
      "Anomaly Weight: 100\n",
      "AUC: 0.9951627088830255\n",
      "eval_acc: 0.9903610234840519\n",
      "---------------\n",
      "fold 3\n",
      "Anomaly Weight: 100\n",
      "AUC: 0.9268920734437976\n",
      "eval_acc: 0.9896600070101648\n",
      "---------------\n",
      "fold 4\n",
      "Anomaly Weight: 100\n",
      "AUC: 0.9429724301962926\n",
      "eval_acc: 0.9908867858394672\n",
      "---------------\n",
      "fold 5\n",
      "Anomaly Weight: 100\n",
      "AUC: 0.8777827179386432\n",
      "eval_acc: 0.9901857693655801\n"
     ]
    },
    {
     "ename": "KeyboardInterrupt",
     "evalue": "",
     "output_type": "error",
     "traceback": [
      "\u001b[1;31m---------------------------------------------------------------------------\u001b[0m",
      "\u001b[1;31mKeyboardInterrupt\u001b[0m                         Traceback (most recent call last)",
      "\u001b[1;32m~\\AppData\\Local\\Temp\\ipykernel_10900\\1558530328.py\u001b[0m in \u001b[0;36m<module>\u001b[1;34m\u001b[0m\n\u001b[0;32m     75\u001b[0m             \u001b[0mlog\u001b[0m \u001b[1;33m=\u001b[0m \u001b[1;33m[\u001b[0m\u001b[0msk_model\u001b[0m\u001b[1;33m,\u001b[0m \u001b[0mx_validate\u001b[0m\u001b[1;33m[\u001b[0m\u001b[0mtest\u001b[0m\u001b[1;33m]\u001b[0m\u001b[1;33m,\u001b[0m \u001b[0my_validate\u001b[0m\u001b[1;33m[\u001b[0m\u001b[0mtest\u001b[0m\u001b[1;33m]\u001b[0m\u001b[1;33m,\u001b[0m \u001b[0mpreds\u001b[0m\u001b[1;33m]\u001b[0m\u001b[1;33m\u001b[0m\u001b[1;33m\u001b[0m\u001b[0m\n\u001b[0;32m     76\u001b[0m             \u001b[0mlogs\u001b[0m\u001b[1;33m.\u001b[0m\u001b[0mappend\u001b[0m\u001b[1;33m(\u001b[0m\u001b[0mlog\u001b[0m\u001b[1;33m)\u001b[0m\u001b[1;33m\u001b[0m\u001b[1;33m\u001b[0m\u001b[0m\n\u001b[1;32m---> 77\u001b[1;33m             \u001b[0mmlflow\u001b[0m\u001b[1;33m.\u001b[0m\u001b[0msklearn\u001b[0m\u001b[1;33m.\u001b[0m\u001b[0mlog_model\u001b[0m\u001b[1;33m(\u001b[0m\u001b[0msk_model\u001b[0m\u001b[1;33m,\u001b[0m \u001b[1;34mf\"anom_weight_{weight}_fold_{fold}\"\u001b[0m\u001b[1;33m)\u001b[0m\u001b[1;33m\u001b[0m\u001b[1;33m\u001b[0m\u001b[0m\n\u001b[0m\u001b[0;32m     78\u001b[0m \u001b[1;33m\u001b[0m\u001b[0m\n\u001b[0;32m     79\u001b[0m             \u001b[0mfold\u001b[0m \u001b[1;33m=\u001b[0m \u001b[0mfold\u001b[0m \u001b[1;33m+\u001b[0m \u001b[1;36m1\u001b[0m\u001b[1;33m\u001b[0m\u001b[1;33m\u001b[0m\u001b[0m\n",
      "\u001b[1;32m~\\Anaconda3\\envs\\TFKERAS\\lib\\site-packages\\mlflow\\sklearn\\__init__.py\u001b[0m in \u001b[0;36mlog_model\u001b[1;34m(sk_model, artifact_path, conda_env, code_paths, serialization_format, registered_model_name, signature, input_example, await_registration_for, pip_requirements, extra_pip_requirements, pyfunc_predict_fn)\u001b[0m\n\u001b[0;32m    418\u001b[0m         \u001b[0mpip_requirements\u001b[0m\u001b[1;33m=\u001b[0m\u001b[0mpip_requirements\u001b[0m\u001b[1;33m,\u001b[0m\u001b[1;33m\u001b[0m\u001b[1;33m\u001b[0m\u001b[0m\n\u001b[0;32m    419\u001b[0m         \u001b[0mextra_pip_requirements\u001b[0m\u001b[1;33m=\u001b[0m\u001b[0mextra_pip_requirements\u001b[0m\u001b[1;33m,\u001b[0m\u001b[1;33m\u001b[0m\u001b[1;33m\u001b[0m\u001b[0m\n\u001b[1;32m--> 420\u001b[1;33m         \u001b[0mpyfunc_predict_fn\u001b[0m\u001b[1;33m=\u001b[0m\u001b[0mpyfunc_predict_fn\u001b[0m\u001b[1;33m,\u001b[0m\u001b[1;33m\u001b[0m\u001b[1;33m\u001b[0m\u001b[0m\n\u001b[0m\u001b[0;32m    421\u001b[0m     )\n\u001b[0;32m    422\u001b[0m \u001b[1;33m\u001b[0m\u001b[0m\n",
      "\u001b[1;32m~\\Anaconda3\\envs\\TFKERAS\\lib\\site-packages\\mlflow\\models\\model.py\u001b[0m in \u001b[0;36mlog\u001b[1;34m(cls, artifact_path, flavor, registered_model_name, await_registration_for, **kwargs)\u001b[0m\n\u001b[0;32m    371\u001b[0m             \u001b[0mrun_id\u001b[0m \u001b[1;33m=\u001b[0m \u001b[0mmlflow\u001b[0m\u001b[1;33m.\u001b[0m\u001b[0mtracking\u001b[0m\u001b[1;33m.\u001b[0m\u001b[0mfluent\u001b[0m\u001b[1;33m.\u001b[0m\u001b[0m_get_or_start_run\u001b[0m\u001b[1;33m(\u001b[0m\u001b[1;33m)\u001b[0m\u001b[1;33m.\u001b[0m\u001b[0minfo\u001b[0m\u001b[1;33m.\u001b[0m\u001b[0mrun_id\u001b[0m\u001b[1;33m\u001b[0m\u001b[1;33m\u001b[0m\u001b[0m\n\u001b[0;32m    372\u001b[0m             \u001b[0mmlflow_model\u001b[0m \u001b[1;33m=\u001b[0m \u001b[0mcls\u001b[0m\u001b[1;33m(\u001b[0m\u001b[0martifact_path\u001b[0m\u001b[1;33m=\u001b[0m\u001b[0martifact_path\u001b[0m\u001b[1;33m,\u001b[0m \u001b[0mrun_id\u001b[0m\u001b[1;33m=\u001b[0m\u001b[0mrun_id\u001b[0m\u001b[1;33m)\u001b[0m\u001b[1;33m\u001b[0m\u001b[1;33m\u001b[0m\u001b[0m\n\u001b[1;32m--> 373\u001b[1;33m             \u001b[0mflavor\u001b[0m\u001b[1;33m.\u001b[0m\u001b[0msave_model\u001b[0m\u001b[1;33m(\u001b[0m\u001b[0mpath\u001b[0m\u001b[1;33m=\u001b[0m\u001b[0mlocal_path\u001b[0m\u001b[1;33m,\u001b[0m \u001b[0mmlflow_model\u001b[0m\u001b[1;33m=\u001b[0m\u001b[0mmlflow_model\u001b[0m\u001b[1;33m,\u001b[0m \u001b[1;33m**\u001b[0m\u001b[0mkwargs\u001b[0m\u001b[1;33m)\u001b[0m\u001b[1;33m\u001b[0m\u001b[1;33m\u001b[0m\u001b[0m\n\u001b[0m\u001b[0;32m    374\u001b[0m             \u001b[0mmlflow\u001b[0m\u001b[1;33m.\u001b[0m\u001b[0mtracking\u001b[0m\u001b[1;33m.\u001b[0m\u001b[0mfluent\u001b[0m\u001b[1;33m.\u001b[0m\u001b[0mlog_artifacts\u001b[0m\u001b[1;33m(\u001b[0m\u001b[0mlocal_path\u001b[0m\u001b[1;33m,\u001b[0m \u001b[0mmlflow_model\u001b[0m\u001b[1;33m.\u001b[0m\u001b[0martifact_path\u001b[0m\u001b[1;33m)\u001b[0m\u001b[1;33m\u001b[0m\u001b[1;33m\u001b[0m\u001b[0m\n\u001b[0;32m    375\u001b[0m             \u001b[1;32mtry\u001b[0m\u001b[1;33m:\u001b[0m\u001b[1;33m\u001b[0m\u001b[1;33m\u001b[0m\u001b[0m\n",
      "\u001b[1;32m~\\Anaconda3\\envs\\TFKERAS\\lib\\site-packages\\mlflow\\sklearn\\__init__.py\u001b[0m in \u001b[0;36msave_model\u001b[1;34m(sk_model, path, conda_env, code_paths, mlflow_model, serialization_format, signature, input_example, pip_requirements, extra_pip_requirements, pyfunc_predict_fn)\u001b[0m\n\u001b[0;32m    292\u001b[0m                 \u001b[0mmodel_data_path\u001b[0m\u001b[1;33m,\u001b[0m\u001b[1;33m\u001b[0m\u001b[1;33m\u001b[0m\u001b[0m\n\u001b[0;32m    293\u001b[0m                 \u001b[0mFLAVOR_NAME\u001b[0m\u001b[1;33m,\u001b[0m\u001b[1;33m\u001b[0m\u001b[1;33m\u001b[0m\u001b[0m\n\u001b[1;32m--> 294\u001b[1;33m                 \u001b[0mfallback\u001b[0m\u001b[1;33m=\u001b[0m\u001b[0mdefault_reqs\u001b[0m\u001b[1;33m,\u001b[0m\u001b[1;33m\u001b[0m\u001b[1;33m\u001b[0m\u001b[0m\n\u001b[0m\u001b[0;32m    295\u001b[0m             )\n\u001b[0;32m    296\u001b[0m             \u001b[0mdefault_reqs\u001b[0m \u001b[1;33m=\u001b[0m \u001b[0msorted\u001b[0m\u001b[1;33m(\u001b[0m\u001b[0mset\u001b[0m\u001b[1;33m(\u001b[0m\u001b[0minferred_reqs\u001b[0m\u001b[1;33m)\u001b[0m\u001b[1;33m.\u001b[0m\u001b[0munion\u001b[0m\u001b[1;33m(\u001b[0m\u001b[0mdefault_reqs\u001b[0m\u001b[1;33m)\u001b[0m\u001b[1;33m)\u001b[0m\u001b[1;33m\u001b[0m\u001b[1;33m\u001b[0m\u001b[0m\n",
      "\u001b[1;32m~\\Anaconda3\\envs\\TFKERAS\\lib\\site-packages\\mlflow\\utils\\environment.py\u001b[0m in \u001b[0;36minfer_pip_requirements\u001b[1;34m(model_uri, flavor, fallback)\u001b[0m\n\u001b[0;32m    376\u001b[0m     \"\"\"\n\u001b[0;32m    377\u001b[0m     \u001b[1;32mtry\u001b[0m\u001b[1;33m:\u001b[0m\u001b[1;33m\u001b[0m\u001b[1;33m\u001b[0m\u001b[0m\n\u001b[1;32m--> 378\u001b[1;33m         \u001b[1;32mreturn\u001b[0m \u001b[0m_infer_requirements\u001b[0m\u001b[1;33m(\u001b[0m\u001b[0mmodel_uri\u001b[0m\u001b[1;33m,\u001b[0m \u001b[0mflavor\u001b[0m\u001b[1;33m)\u001b[0m\u001b[1;33m\u001b[0m\u001b[1;33m\u001b[0m\u001b[0m\n\u001b[0m\u001b[0;32m    379\u001b[0m     \u001b[1;32mexcept\u001b[0m \u001b[0mException\u001b[0m\u001b[1;33m:\u001b[0m\u001b[1;33m\u001b[0m\u001b[1;33m\u001b[0m\u001b[0m\n\u001b[0;32m    380\u001b[0m         \u001b[1;32mif\u001b[0m \u001b[0mfallback\u001b[0m \u001b[1;32mis\u001b[0m \u001b[1;32mnot\u001b[0m \u001b[1;32mNone\u001b[0m\u001b[1;33m:\u001b[0m\u001b[1;33m\u001b[0m\u001b[1;33m\u001b[0m\u001b[0m\n",
      "\u001b[1;32m~\\Anaconda3\\envs\\TFKERAS\\lib\\site-packages\\mlflow\\utils\\requirements_utils.py\u001b[0m in \u001b[0;36m_infer_requirements\u001b[1;34m(model_uri, flavor)\u001b[0m\n\u001b[0;32m    379\u001b[0m         \u001b[0m_PYPI_PACKAGE_INDEX\u001b[0m \u001b[1;33m=\u001b[0m \u001b[0m_load_pypi_package_index\u001b[0m\u001b[1;33m(\u001b[0m\u001b[1;33m)\u001b[0m\u001b[1;33m\u001b[0m\u001b[1;33m\u001b[0m\u001b[0m\n\u001b[0;32m    380\u001b[0m \u001b[1;33m\u001b[0m\u001b[0m\n\u001b[1;32m--> 381\u001b[1;33m     \u001b[0mmodules\u001b[0m \u001b[1;33m=\u001b[0m \u001b[0m_capture_imported_modules\u001b[0m\u001b[1;33m(\u001b[0m\u001b[0mmodel_uri\u001b[0m\u001b[1;33m,\u001b[0m \u001b[0mflavor\u001b[0m\u001b[1;33m)\u001b[0m\u001b[1;33m\u001b[0m\u001b[1;33m\u001b[0m\u001b[0m\n\u001b[0m\u001b[0;32m    382\u001b[0m     \u001b[0mpackages\u001b[0m \u001b[1;33m=\u001b[0m \u001b[0m_flatten\u001b[0m\u001b[1;33m(\u001b[0m\u001b[1;33m[\u001b[0m\u001b[0m_MODULES_TO_PACKAGES\u001b[0m\u001b[1;33m.\u001b[0m\u001b[0mget\u001b[0m\u001b[1;33m(\u001b[0m\u001b[0mmodule\u001b[0m\u001b[1;33m,\u001b[0m \u001b[1;33m[\u001b[0m\u001b[1;33m]\u001b[0m\u001b[1;33m)\u001b[0m \u001b[1;32mfor\u001b[0m \u001b[0mmodule\u001b[0m \u001b[1;32min\u001b[0m \u001b[0mmodules\u001b[0m\u001b[1;33m]\u001b[0m\u001b[1;33m)\u001b[0m\u001b[1;33m\u001b[0m\u001b[1;33m\u001b[0m\u001b[0m\n\u001b[0;32m    383\u001b[0m     \u001b[0mpackages\u001b[0m \u001b[1;33m=\u001b[0m \u001b[0mmap\u001b[0m\u001b[1;33m(\u001b[0m\u001b[0m_normalize_package_name\u001b[0m\u001b[1;33m,\u001b[0m \u001b[0mpackages\u001b[0m\u001b[1;33m)\u001b[0m\u001b[1;33m\u001b[0m\u001b[1;33m\u001b[0m\u001b[0m\n",
      "\u001b[1;32m~\\Anaconda3\\envs\\TFKERAS\\lib\\site-packages\\mlflow\\utils\\requirements_utils.py\u001b[0m in \u001b[0;36m_capture_imported_modules\u001b[1;34m(model_uri, flavor)\u001b[0m\n\u001b[0;32m    296\u001b[0m             ],\n\u001b[0;32m    297\u001b[0m             \u001b[0mtimeout_seconds\u001b[0m\u001b[1;33m=\u001b[0m\u001b[0mprocess_timeout\u001b[0m\u001b[1;33m,\u001b[0m\u001b[1;33m\u001b[0m\u001b[1;33m\u001b[0m\u001b[0m\n\u001b[1;32m--> 298\u001b[1;33m             \u001b[0menv\u001b[0m\u001b[1;33m=\u001b[0m\u001b[0mmain_env\u001b[0m\u001b[1;33m,\u001b[0m\u001b[1;33m\u001b[0m\u001b[1;33m\u001b[0m\u001b[0m\n\u001b[0m\u001b[0;32m    299\u001b[0m         )\n\u001b[0;32m    300\u001b[0m         \u001b[1;32mwith\u001b[0m \u001b[0mopen\u001b[0m\u001b[1;33m(\u001b[0m\u001b[0moutput_file\u001b[0m\u001b[1;33m)\u001b[0m \u001b[1;32mas\u001b[0m \u001b[0mf\u001b[0m\u001b[1;33m:\u001b[0m\u001b[1;33m\u001b[0m\u001b[1;33m\u001b[0m\u001b[0m\n",
      "\u001b[1;32m~\\Anaconda3\\envs\\TFKERAS\\lib\\site-packages\\mlflow\\utils\\requirements_utils.py\u001b[0m in \u001b[0;36m_run_command\u001b[1;34m(cmd, timeout_seconds, env)\u001b[0m\n\u001b[0;32m    209\u001b[0m     \u001b[1;32mtry\u001b[0m\u001b[1;33m:\u001b[0m\u001b[1;33m\u001b[0m\u001b[1;33m\u001b[0m\u001b[0m\n\u001b[0;32m    210\u001b[0m         \u001b[0mtimer\u001b[0m\u001b[1;33m.\u001b[0m\u001b[0mstart\u001b[0m\u001b[1;33m(\u001b[0m\u001b[1;33m)\u001b[0m\u001b[1;33m\u001b[0m\u001b[1;33m\u001b[0m\u001b[0m\n\u001b[1;32m--> 211\u001b[1;33m         \u001b[0mstdout\u001b[0m\u001b[1;33m,\u001b[0m \u001b[0mstderr\u001b[0m \u001b[1;33m=\u001b[0m \u001b[0mproc\u001b[0m\u001b[1;33m.\u001b[0m\u001b[0mcommunicate\u001b[0m\u001b[1;33m(\u001b[0m\u001b[1;33m)\u001b[0m\u001b[1;33m\u001b[0m\u001b[1;33m\u001b[0m\u001b[0m\n\u001b[0m\u001b[0;32m    212\u001b[0m         \u001b[0mstdout\u001b[0m \u001b[1;33m=\u001b[0m \u001b[0mstdout\u001b[0m\u001b[1;33m.\u001b[0m\u001b[0mdecode\u001b[0m\u001b[1;33m(\u001b[0m\u001b[1;34m\"utf-8\"\u001b[0m\u001b[1;33m)\u001b[0m\u001b[1;33m\u001b[0m\u001b[1;33m\u001b[0m\u001b[0m\n\u001b[0;32m    213\u001b[0m         \u001b[0mstderr\u001b[0m \u001b[1;33m=\u001b[0m \u001b[0mstderr\u001b[0m\u001b[1;33m.\u001b[0m\u001b[0mdecode\u001b[0m\u001b[1;33m(\u001b[0m\u001b[1;34m\"utf-8\"\u001b[0m\u001b[1;33m)\u001b[0m\u001b[1;33m\u001b[0m\u001b[1;33m\u001b[0m\u001b[0m\n",
      "\u001b[1;32m~\\Anaconda3\\envs\\TFKERAS\\lib\\subprocess.py\u001b[0m in \u001b[0;36mcommunicate\u001b[1;34m(self, input, timeout)\u001b[0m\n\u001b[0;32m    962\u001b[0m \u001b[1;33m\u001b[0m\u001b[0m\n\u001b[0;32m    963\u001b[0m             \u001b[1;32mtry\u001b[0m\u001b[1;33m:\u001b[0m\u001b[1;33m\u001b[0m\u001b[1;33m\u001b[0m\u001b[0m\n\u001b[1;32m--> 964\u001b[1;33m                 \u001b[0mstdout\u001b[0m\u001b[1;33m,\u001b[0m \u001b[0mstderr\u001b[0m \u001b[1;33m=\u001b[0m \u001b[0mself\u001b[0m\u001b[1;33m.\u001b[0m\u001b[0m_communicate\u001b[0m\u001b[1;33m(\u001b[0m\u001b[0minput\u001b[0m\u001b[1;33m,\u001b[0m \u001b[0mendtime\u001b[0m\u001b[1;33m,\u001b[0m \u001b[0mtimeout\u001b[0m\u001b[1;33m)\u001b[0m\u001b[1;33m\u001b[0m\u001b[1;33m\u001b[0m\u001b[0m\n\u001b[0m\u001b[0;32m    965\u001b[0m             \u001b[1;32mexcept\u001b[0m \u001b[0mKeyboardInterrupt\u001b[0m\u001b[1;33m:\u001b[0m\u001b[1;33m\u001b[0m\u001b[1;33m\u001b[0m\u001b[0m\n\u001b[0;32m    966\u001b[0m                 \u001b[1;31m# https://bugs.python.org/issue25942\u001b[0m\u001b[1;33m\u001b[0m\u001b[1;33m\u001b[0m\u001b[1;33m\u001b[0m\u001b[0m\n",
      "\u001b[1;32m~\\Anaconda3\\envs\\TFKERAS\\lib\\subprocess.py\u001b[0m in \u001b[0;36m_communicate\u001b[1;34m(self, input, endtime, orig_timeout)\u001b[0m\n\u001b[0;32m   1294\u001b[0m             \u001b[1;31m# calls communicate again.\u001b[0m\u001b[1;33m\u001b[0m\u001b[1;33m\u001b[0m\u001b[1;33m\u001b[0m\u001b[0m\n\u001b[0;32m   1295\u001b[0m             \u001b[1;32mif\u001b[0m \u001b[0mself\u001b[0m\u001b[1;33m.\u001b[0m\u001b[0mstdout\u001b[0m \u001b[1;32mis\u001b[0m \u001b[1;32mnot\u001b[0m \u001b[1;32mNone\u001b[0m\u001b[1;33m:\u001b[0m\u001b[1;33m\u001b[0m\u001b[1;33m\u001b[0m\u001b[0m\n\u001b[1;32m-> 1296\u001b[1;33m                 \u001b[0mself\u001b[0m\u001b[1;33m.\u001b[0m\u001b[0mstdout_thread\u001b[0m\u001b[1;33m.\u001b[0m\u001b[0mjoin\u001b[0m\u001b[1;33m(\u001b[0m\u001b[0mself\u001b[0m\u001b[1;33m.\u001b[0m\u001b[0m_remaining_time\u001b[0m\u001b[1;33m(\u001b[0m\u001b[0mendtime\u001b[0m\u001b[1;33m)\u001b[0m\u001b[1;33m)\u001b[0m\u001b[1;33m\u001b[0m\u001b[1;33m\u001b[0m\u001b[0m\n\u001b[0m\u001b[0;32m   1297\u001b[0m                 \u001b[1;32mif\u001b[0m \u001b[0mself\u001b[0m\u001b[1;33m.\u001b[0m\u001b[0mstdout_thread\u001b[0m\u001b[1;33m.\u001b[0m\u001b[0mis_alive\u001b[0m\u001b[1;33m(\u001b[0m\u001b[1;33m)\u001b[0m\u001b[1;33m:\u001b[0m\u001b[1;33m\u001b[0m\u001b[1;33m\u001b[0m\u001b[0m\n\u001b[0;32m   1298\u001b[0m                     \u001b[1;32mraise\u001b[0m \u001b[0mTimeoutExpired\u001b[0m\u001b[1;33m(\u001b[0m\u001b[0mself\u001b[0m\u001b[1;33m.\u001b[0m\u001b[0margs\u001b[0m\u001b[1;33m,\u001b[0m \u001b[0morig_timeout\u001b[0m\u001b[1;33m)\u001b[0m\u001b[1;33m\u001b[0m\u001b[1;33m\u001b[0m\u001b[0m\n",
      "\u001b[1;32m~\\Anaconda3\\envs\\TFKERAS\\lib\\threading.py\u001b[0m in \u001b[0;36mjoin\u001b[1;34m(self, timeout)\u001b[0m\n\u001b[0;32m   1042\u001b[0m \u001b[1;33m\u001b[0m\u001b[0m\n\u001b[0;32m   1043\u001b[0m         \u001b[1;32mif\u001b[0m \u001b[0mtimeout\u001b[0m \u001b[1;32mis\u001b[0m \u001b[1;32mNone\u001b[0m\u001b[1;33m:\u001b[0m\u001b[1;33m\u001b[0m\u001b[1;33m\u001b[0m\u001b[0m\n\u001b[1;32m-> 1044\u001b[1;33m             \u001b[0mself\u001b[0m\u001b[1;33m.\u001b[0m\u001b[0m_wait_for_tstate_lock\u001b[0m\u001b[1;33m(\u001b[0m\u001b[1;33m)\u001b[0m\u001b[1;33m\u001b[0m\u001b[1;33m\u001b[0m\u001b[0m\n\u001b[0m\u001b[0;32m   1045\u001b[0m         \u001b[1;32melse\u001b[0m\u001b[1;33m:\u001b[0m\u001b[1;33m\u001b[0m\u001b[1;33m\u001b[0m\u001b[0m\n\u001b[0;32m   1046\u001b[0m             \u001b[1;31m# the behavior of a negative timeout isn't documented, but\u001b[0m\u001b[1;33m\u001b[0m\u001b[1;33m\u001b[0m\u001b[1;33m\u001b[0m\u001b[0m\n",
      "\u001b[1;32m~\\Anaconda3\\envs\\TFKERAS\\lib\\threading.py\u001b[0m in \u001b[0;36m_wait_for_tstate_lock\u001b[1;34m(self, block, timeout)\u001b[0m\n\u001b[0;32m   1058\u001b[0m         \u001b[1;32mif\u001b[0m \u001b[0mlock\u001b[0m \u001b[1;32mis\u001b[0m \u001b[1;32mNone\u001b[0m\u001b[1;33m:\u001b[0m  \u001b[1;31m# already determined that the C code is done\u001b[0m\u001b[1;33m\u001b[0m\u001b[1;33m\u001b[0m\u001b[0m\n\u001b[0;32m   1059\u001b[0m             \u001b[1;32massert\u001b[0m \u001b[0mself\u001b[0m\u001b[1;33m.\u001b[0m\u001b[0m_is_stopped\u001b[0m\u001b[1;33m\u001b[0m\u001b[1;33m\u001b[0m\u001b[0m\n\u001b[1;32m-> 1060\u001b[1;33m         \u001b[1;32melif\u001b[0m \u001b[0mlock\u001b[0m\u001b[1;33m.\u001b[0m\u001b[0macquire\u001b[0m\u001b[1;33m(\u001b[0m\u001b[0mblock\u001b[0m\u001b[1;33m,\u001b[0m \u001b[0mtimeout\u001b[0m\u001b[1;33m)\u001b[0m\u001b[1;33m:\u001b[0m\u001b[1;33m\u001b[0m\u001b[1;33m\u001b[0m\u001b[0m\n\u001b[0m\u001b[0;32m   1061\u001b[0m             \u001b[0mlock\u001b[0m\u001b[1;33m.\u001b[0m\u001b[0mrelease\u001b[0m\u001b[1;33m(\u001b[0m\u001b[1;33m)\u001b[0m\u001b[1;33m\u001b[0m\u001b[1;33m\u001b[0m\u001b[0m\n\u001b[0;32m   1062\u001b[0m             \u001b[0mself\u001b[0m\u001b[1;33m.\u001b[0m\u001b[0m_stop\u001b[0m\u001b[1;33m(\u001b[0m\u001b[1;33m)\u001b[0m\u001b[1;33m\u001b[0m\u001b[1;33m\u001b[0m\u001b[0m\n",
      "\u001b[1;31mKeyboardInterrupt\u001b[0m: "
     ]
    }
   ],
   "source": [
    "'''\n",
    "# list of weights to iterate over:\n",
    "anomaly_weights = [1, 5, 10, 15]\n",
    "num_folds = 5\n",
    "kfold = KFold(n_splits=num_folds, shuffle=True, random_state=2020)\n",
    "'''\n",
    "# The 'set_experiment' sets the given experiment as the\n",
    "# active experiment. The experiment must either be specified\n",
    "# by name via `experiment_name` or by ID via `experiment_id`.\n",
    "mlflow.set_experiment(\"sklearn_creditcard_broad_search\")\n",
    "\n",
    "logs = []\n",
    "'''\n",
    "logs list keeps records of the results of the `sk_model` \n",
    "given its parametes  `x_validate[test]` and `y_validate[test]`,\n",
    "as well the results of the predictions `preds` given its\n",
    "parameters of `sk_model.predict(x_validate[test])` \n",
    "for each run of anomaly weights `anomaly_weights` \n",
    "and for each of the five folds per `anomaly_weights`. \n",
    "'''\n",
    "# empty dictionary for results\n",
    "d={'FoldNum':[],\"AnomWe\":[],\"AUC\":[],\"EvalAcc\":[]} \n",
    "Folds = []\n",
    "AnomWeights = []\n",
    "AUCPerFoldAW = []\n",
    "AccuPerFoldAW = []\n",
    "\n",
    "# The first loop goes over each of the anomaly weights.\n",
    "for f in range(len(anomaly_weights)):\n",
    "    # We set the fold=1 to initiate the fold number per \n",
    "    # each 'anomaly_weights' round.\n",
    "    fold = 1 \n",
    "    auc_scores= []\n",
    "    accuracies = []\n",
    "  \n",
    "    for train, test in kfold.split(x_validate, y_validate):\n",
    "        # starts to run the experiment and logging metrics\n",
    "        # and artifacts\n",
    "        with mlflow.start_run():\n",
    "            weight = anomaly_weights[f]\n",
    "            # logs current anomaly_weight value\n",
    "            mlflow.log_param(\"anomaly_weight\", weight)\n",
    "            # set the class_weights dictionary and pass it into the \n",
    "            # model as a hyperparameter.\n",
    "            class_weights= { 0:1, 1: weight }\n",
    "            sk_model = LogisticRegression(random_state=None,\n",
    "                                          max_iter=400,\n",
    "                                          solver='newton-cg',\n",
    "                                          class_weight=class_weights).fit(x_validate[train],y_validate[train])\n",
    "            \n",
    "            for h in range(40):\n",
    "                train_acc = sk_model.score(x_validate[train], y_validate[train])\n",
    "                mlflow.log_metric(\"train_acc\", train_acc)\n",
    "                eval_acc = sk_model.score(x_validate[test],y_validate[test])\n",
    "                preds = sk_model.predict(x_validate[test])\n",
    "                mlflow.log_metric(\"eval_acc\", eval_acc)\n",
    "                try:\n",
    "                    auc_score = roc_auc_score(y_validate[test], preds)\n",
    "                except:\n",
    "                    auc_score = -1\n",
    "        \n",
    "            mlflow.log_metric(\"auc_score\", auc_score)\n",
    "            \n",
    "            \n",
    "            Folds.append(fold)\n",
    "            AnomWeights.append(weight)\n",
    "            AUCPerFoldAW.append(eval_acc)\n",
    "            AccuPerFoldAW.append(auc_score)\n",
    "\n",
    "            print('---------------', end=\"\")\n",
    "            print(f\"\\nfold {fold}\\nAnomaly Weight: {weight}\")\n",
    "            print(\"AUC: {}\\neval_acc: {}\".format(auc_score, eval_acc))\n",
    "            accuracies.append(eval_acc)\n",
    "            auc_scores.append(auc_score)\n",
    "            log = [sk_model, x_validate[test], y_validate[test], preds]\n",
    "            logs.append(log)\n",
    "            mlflow.sklearn.log_model(sk_model, f\"anom_weight_{weight}_fold_{fold}\")\n",
    "                        \n",
    "            fold = fold + 1\n",
    "            mlflow.end_run()\n",
    "            \n",
    "    print('\\n++++++++++++++++', end=\"\")\n",
    "    print(\"\\nAverages for Anomaly Weight:\", weight)\n",
    "    print(\"AUC: \", np.mean(auc_scores))\n",
    "    print(\"Accuracy: \", np.mean(accuracies))\n",
    "    print('++++++++++++++++', end=\"\")\n",
    "\n",
    "\n",
    "#updates de directory       \n",
    "d.update({'FoldNum':Folds,\n",
    "          \"AnomWe\":AnomWeights,\n",
    "          \"AUC\":AUCPerFoldAW,\n",
    "          \"EvalAcc\":AccuPerFoldAW})\n",
    "\n",
    "print('\\n/////////////////', end=\"\")\n",
    "print(\"\\n Total Averages: \")\n",
    "print(\"AUC: \", np.mean(auc_scores))\n",
    "print(\"Accuracy: \", np.mean(accuracies))\n",
    "print(\"Best: \")\n",
    "print(\"AUC: \", np.max(auc_scores))\n",
    "print(\"Accuracy: \", np.max(accuracies))"
   ]
  },
  {
   "cell_type": "markdown",
   "id": "1d7c4e21-69f8-4226-9dd3-a58ae3747d48",
   "metadata": {},
   "source": [
    "Once running this script, it had should loged the parameter for the anomaly weight and all of the metrics that you specified for every fold generated.\n",
    "When the script finishes, go to your MLFlow UI and switch the experiment to sklearn_creditcard_broad_search to see all the runs you just logged."
   ]
  },
  {
   "cell_type": "markdown",
   "id": "06209334-4415-4b2c-9c15-fcb39263ac78",
   "metadata": {},
   "source": [
    "By a quick looking at the mlflow ui we can notice the results for every one of the five folds for every of the 4 anomaly_weights values. So we could not use any more the d dictionary we used to get a dataframe for all this results in program `LR_SKL_CreCarAnmDet1.ipynb`"
   ]
  },
  {
   "cell_type": "markdown",
   "id": "79b44159-dc57-4878-9348-b7d812db00a5",
   "metadata": {},
   "source": [
    "In the metrics by clicking the 'auc_score' column we sorts this by the AUC score to find the best parameters for the AUC. We observe that the best AUC result was for anomaly_weight=5"
   ]
  },
  {
   "cell_type": "markdown",
   "id": "8e06cce7-38aa-40e6-903b-c63df5d6f1ff",
   "metadata": {},
   "source": [
    "If we like to filter the  AUC scores that are at least 0.90, the UI provides a search bar that performs a search based on the SQL WHERE clause. So, to filter your output, type the following and click Search:\n",
    "**metrics.\"auc_score\" >= 0.90**\n",
    "\n",
    "Notice that we put \"auc_score\" in quotation marks. This is for cases where the metric name that you’ve logged contains characters like a dash where it might not recognize the name if you typed it out like so:\n",
    "metrics.auc-score The proper convention for a metric logged as \"auc-score\" would be to filter it."
   ]
  },
  {
   "cell_type": "markdown",
   "id": "a7bc2e59-80c4-410b-afda-4363f97f5396",
   "metadata": {},
   "source": [
    "Now let’s say that of these scores, you want to see the scores for anomaly weights of 5 only. It doesn’t appear that there are any results with the anomaly weight of 1, so we will start with 5. For that, let’s type and search the following:\n",
    "\n",
    "metrics.\"auc_score\" >= 0.90 AND parameters.anomaly_weight = \"5\""
   ]
  },
  {
   "cell_type": "markdown",
   "id": "f5edc79b-dbe9-4221-b8dd-b9e1b7a4080d",
   "metadata": {},
   "source": [
    "You put the 5 in quotation marks because the parameters seem to be logged as string values, whereas the metrics are logged as floats. From this output, it seems that only two of the five folds with the anomaly weight set to 5 had an AUC score above 0.90."
   ]
  },
  {
   "cell_type": "markdown",
   "id": "61a482e7-a6a4-4582-abd8-b08774ee1bff",
   "metadata": {},
   "source": [
    "Let’s quickly search over the other parameters and check how many folds had an AUC score above 0.90 as well: \n",
    "\n",
    "metrics.\"auc_score\" >= 0.90 AND parameters.anomaly_weight = \"10\"\n",
    "metrics.\"auc_score\" >= 0.90 AND parameters.anomaly_weight = \"15\"\n",
    "\n",
    "Three runs for an anomaly weight of 10 and 15 also met your criteria for minimum AUC score"
   ]
  },
  {
   "cell_type": "markdown",
   "id": "f3e4f14c-948e-4be2-a652-96329cf6fab1",
   "metadata": {},
   "source": [
    "What if you tighten the AUC score requirement to be a minimum of 0.95? Let’s check the runs for a minimum AUC of 0.95 and with an anomaly weight of 5, 10 and 15. \n",
    "\n",
    "Only one run per each weight has achieved an AUC score above 0.95. \n",
    "\n",
    "So, from these results, you cannot really infer which weight setting is the best, so you have to narrow the scope of your hyperparameter search. As far as you know, you could have missed the best setting, and it could be somewhere in between 5 and 10 or 10 and 15."
   ]
  },
  {
   "cell_type": "markdown",
   "id": "92ab81c4-55a4-4735-9058-1c1a9eb45911",
   "metadata": {},
   "source": [
    "So what if the higher anomaly weights were more consistent in their AUC scores, and the smaller anomaly weight runs achieving the highest AUC scores were just flukes (coincidences)? To see how each anomaly weight setting did, first remove the query statement, and click Search again. Next, make sure that the AUC scores are in descending order. \n",
    "\n",
    "The, using the following code, let’s filter over all of the values for anomaly weights and check what the AUC scores look like, seplacing 1 with 5, 10, and 15.\n",
    "\n",
    "**parameters.anomaly_weight = \"1\"**"
   ]
  },
  {
   "cell_type": "markdown",
   "id": "c9318222-02bc-4441-9808-8701e8dbfac1",
   "metadata": {},
   "source": [
    "None of the scores have gone above 0.9, so you can automatically rule\n",
    "out this anomaly weight setting. If you go back to your script, you can see that the average AUC for anomaly_weight=1 was around 0.8437.\n",
    "> Averages for Anomaly Weight: 1\n",
    "\n",
    "> AUC:  0.8437245395411569\n",
    "\n",
    "> Accuracy:  0.9985980161860246"
   ]
  },
  {
   "cell_type": "markdown",
   "id": "df79db48-1579-42c9-9efa-e2561b6f844d",
   "metadata": {},
   "source": [
    "Looking at the AUC scores of the runs with anomaly weight of 5 in descending order. You can see a noticeable increase in the average AUC score when compared to an anomaly weight of 1. The scores have improved noticeably. If you go back to the original script’s output, you can see that the average AUC score is now 0.9116.\n",
    "> Averages for Anomaly Weight: 5\n",
    "\n",
    "> AUC:  0.9116151890283671\n",
    "\n",
    "> Accuracy:  0.9985980100442996"
   ]
  },
  {
   "cell_type": "markdown",
   "id": "8dd1f5e8-e441-462f-b1a9-e1050ed53368",
   "metadata": {},
   "source": [
    "For the rest of the anomaly weights (10 and 15):\n",
    "> Averages for Anomaly Weight: 10\n",
    "\n",
    "> **AUC:  0.9214920858175297**\n",
    "\n",
    "> **Accuracy:  0.9984227743510024**\n",
    "\n",
    "> Averages for Anomaly Weight: 15\n",
    "\n",
    "> AUC:  0.9212283479853886\n",
    "\n",
    "> Accuracy:  0.9978970181373118"
   ]
  },
  {
   "cell_type": "markdown",
   "id": "20a13845-9758-4813-90c8-ef616ce0dfe1",
   "metadata": {},
   "source": [
    "Looking at the AUC scores of the runs with an anomaly weight of 10 and 15 in descending order, the scores are very similar, but the average is ever so slightly worse for anomaly weight=15, so the true range seems to be somewhere in between 10 and 15"
   ]
  },
  {
   "cell_type": "markdown",
   "id": "2b570ba3-22e2-4409-9433-a0d5a3378af3",
   "metadata": {},
   "source": [
    "Based on these results, you can see that there **seems to be an increase from 5 to 10, but a slight decrease from 10 to 15**. From this data, the ideal range seems to be somewhere in between 10 and 15, but again, the decrease in average AUC from 10 to 15 is essentially negligible(insignificant). And so, what if it’s potentially beyond 15, and you started out with the wrong range to search over?"
   ]
  },
  {
   "cell_type": "markdown",
   "id": "c3732fcf-3747-4196-b815-6921dc7068d7",
   "metadata": {},
   "source": [
    "From the results of this validation experiment, it seems that you haven’t found a definite range of values that you know for sure you can focus on. And so, you must expand your range even more just to see if you can get better results with higher anomaly weights.\n",
    "\n",
    "Looking at the distribution of data and how heavily the normal points outnumber the anomalies, you can use your intuition to help guide your hyperparameter search and expand the range far more. \n",
    "\n",
    "Now that you know this, let’s try expanding the range far more."
   ]
  },
  {
   "cell_type": "markdown",
   "id": "1c10308c-dabc-4ca6-b2be-89a03b5de0e2",
   "metadata": {},
   "source": [
    "[Return to Contents of credit card dataset analysis](#1MLF1)"
   ]
  },
  {
   "cell_type": "markdown",
   "id": "c7a527f8-e152-474d-a34c-d620d7d254e0",
   "metadata": {},
   "source": [
    "<a id='72MLF1lrskl'></a>\n",
    "### 7.2 Parameter Tuning – Guided Search"
   ]
  },
  {
   "cell_type": "markdown",
   "id": "f8bd2c55-98db-4308-8e35-0bd3af0b2659",
   "metadata": {},
   "source": [
    "The best overall performances were achieved by anomaly weights 10 and 15, but it seems to be on an upward trend the higher up you go with the anomaly weight.\n",
    "\n",
    "Now that you know this, let’s try another validation run with a broader range of anomaly weights to try. "
   ]
  },
  {
   "cell_type": "markdown",
   "id": "851a40ac-0f17-4605-9bd8-c8839ac565c3",
   "metadata": {},
   "source": [
    "The validation script itself should be the same, so if you simply replaced the anomaly weights in the original cell, **don’t run the validation\n",
    "script yet!** Let’s create a new experiment so that you don’t clutter the\n",
    "original tuning experiment with these new runs."
   ]
  },
  {
   "cell_type": "markdown",
   "id": "d8632cff-f44f-4b9a-a76d-286c9a1355f7",
   "metadata": {},
   "source": [
    "Modify the following line in the old validation script so that it goes\n",
    "from \n",
    "\n",
    "mlflow.set_experiment(\"sklearn_creditcard_broad_search\")\n",
    "\n",
    "to\n",
    "\n",
    "mlflow.set_experiment(\"sklearn_creditcard_guided_search\")"
   ]
  },
  {
   "cell_type": "code",
   "execution_count": 68,
   "id": "82d84d6d-5cf5-48b3-acf8-3261eaa35d51",
   "metadata": {},
   "outputs": [
    {
     "name": "stderr",
     "output_type": "stream",
     "text": [
      "2022/11/03 11:13:08 INFO mlflow.tracking.fluent: Experiment with name 'sklearn_creditcard_guided_search' does not exist. Creating a new experiment.\n"
     ]
    },
    {
     "name": "stdout",
     "output_type": "stream",
     "text": [
      "---------------\n",
      "fold 1\n",
      "Anomaly Weight: 10\n",
      "AUC: 0.9243845612801126\n",
      "eval_acc: 0.9982477659015244\n",
      "---------------\n",
      "fold 2\n",
      "Anomaly Weight: 10\n",
      "AUC: 0.9753109687146626\n",
      "eval_acc: 0.9980722046968104\n",
      "---------------\n",
      "fold 3\n",
      "Anomaly Weight: 10\n",
      "AUC: 0.9313783507133262\n",
      "eval_acc: 0.9985979670522257\n",
      "---------------\n",
      "fold 4\n",
      "Anomaly Weight: 10\n",
      "AUC: 0.8943851628367561\n",
      "eval_acc: 0.9985979670522257\n",
      "---------------\n",
      "fold 5\n",
      "Anomaly Weight: 10\n",
      "AUC: 0.8820013855427915\n",
      "eval_acc: 0.9985979670522257\n",
      "\n",
      "++++++++++++++++\n",
      "Averages for Anomaly Weight: 10\n",
      "AUC:  0.9214920858175297\n",
      "Accuracy:  0.9984227743510024\n",
      "++++++++++++++++---------------\n",
      "fold 1\n",
      "Anomaly Weight: 50\n",
      "AUC: 0.922626164937577\n",
      "eval_acc: 0.9947432977045734\n",
      "---------------\n",
      "fold 2\n",
      "Anomaly Weight: 50\n",
      "AUC: 0.9734640030154541\n",
      "eval_acc: 0.9943918682089029\n",
      "---------------\n",
      "fold 3\n",
      "Anomaly Weight: 50\n",
      "AUC: 0.9296190262939033\n",
      "eval_acc: 0.99509288468279\n",
      "---------------\n",
      "fold 4\n",
      "Anomaly Weight: 50\n",
      "AUC: 0.9183271172480171\n",
      "eval_acc: 0.9940413599719593\n",
      "---------------\n",
      "fold 5\n",
      "Anomaly Weight: 50\n",
      "AUC: 0.8797162739238779\n",
      "eval_acc: 0.9940413599719593\n",
      "\n",
      "++++++++++++++++\n",
      "Averages for Anomaly Weight: 50\n",
      "AUC:  0.9247505170837659\n",
      "Accuracy:  0.994462154108037\n",
      "++++++++++++++++---------------\n",
      "fold 1\n",
      "Anomaly Weight: 100\n",
      "AUC: 0.9205160893265342\n",
      "eval_acc: 0.990537935868232\n",
      "---------------\n",
      "fold 2\n",
      "Anomaly Weight: 100\n",
      "AUC: 0.9951627088830255\n",
      "eval_acc: 0.9903610234840519\n",
      "---------------\n",
      "fold 3\n",
      "Anomaly Weight: 100\n",
      "AUC: 0.9268920734437976\n",
      "eval_acc: 0.9896600070101648\n",
      "---------------\n",
      "fold 4\n",
      "Anomaly Weight: 100\n",
      "AUC: 0.9429724301962926\n",
      "eval_acc: 0.9908867858394672\n",
      "---------------\n",
      "fold 5\n",
      "Anomaly Weight: 100\n",
      "AUC: 0.8777827179386432\n",
      "eval_acc: 0.9901857693655801\n",
      "\n",
      "++++++++++++++++\n",
      "Averages for Anomaly Weight: 100\n",
      "AUC:  0.9326652039576586\n",
      "Accuracy:  0.9903263043134993\n",
      "++++++++++++++++---------------\n",
      "fold 1\n",
      "Anomaly Weight: 150\n",
      "AUC: 0.9186697731668719\n",
      "eval_acc: 0.9868582442614333\n",
      "---------------\n",
      "fold 2\n",
      "Anomaly Weight: 150\n",
      "AUC: 0.9927000879507476\n",
      "eval_acc: 0.985453908166842\n",
      "---------------\n",
      "fold 3\n",
      "Anomaly Weight: 150\n",
      "AUC: 0.9247808841404901\n",
      "eval_acc: 0.985453908166842\n",
      "---------------\n",
      "fold 4\n",
      "Anomaly Weight: 150\n",
      "AUC: 0.9411261140366303\n",
      "eval_acc: 0.9872064493515598\n",
      "---------------\n",
      "fold 5\n",
      "Anomaly Weight: 150\n",
      "AUC: 0.9053488155677106\n",
      "eval_acc: 0.9866806869961444\n",
      "\n",
      "++++++++++++++++\n",
      "Averages for Anomaly Weight: 150\n",
      "AUC:  0.93652513497249\n",
      "Accuracy:  0.9863306393885642\n",
      "++++++++++++++++---------------\n",
      "fold 1\n",
      "Anomaly Weight: 200\n",
      "AUC: 0.9427026551784772\n",
      "eval_acc: 0.9851060101629577\n",
      "---------------\n",
      "fold 2\n",
      "Anomaly Weight: 200\n",
      "AUC: 0.9904133685136324\n",
      "eval_acc: 0.9808973010865756\n",
      "---------------\n",
      "fold 3\n",
      "Anomaly Weight: 200\n",
      "AUC: 0.9226696948371826\n",
      "eval_acc: 0.9812478093235191\n",
      "---------------\n",
      "fold 4\n",
      "Anomaly Weight: 200\n",
      "AUC: 0.9391039582427143\n",
      "eval_acc: 0.9831756046267087\n",
      "---------------\n",
      "fold 5\n",
      "Anomaly Weight: 200\n",
      "AUC: 0.9029758150403772\n",
      "eval_acc: 0.9819488257974063\n",
      "\n",
      "++++++++++++++++\n",
      "Averages for Anomaly Weight: 200\n",
      "AUC:  0.9395730983624768\n",
      "Accuracy:  0.9824751101994336\n",
      "++++++++++++++++\n",
      "/////////////////\n",
      " Total Averages: \n",
      "AUC:  0.9395730983624768\n",
      "Accuracy:  0.9824751101994336\n",
      "Best: \n",
      "AUC:  0.9904133685136324\n",
      "Accuracy:  0.9851060101629577\n"
     ]
    }
   ],
   "source": [
    "'''\n",
    "# list of weights to iterate over:\n",
    "anomaly_weights = [10, 50, 100, 150, 200]\n",
    "num_folds = 5\n",
    "kfold = KFold(n_splits=num_folds, shuffle=True, random_state=2020)\n",
    "'''\n",
    "anomaly_weights = [10, 50, 100, 150, 200]\n",
    "# The 'set_experiment' sets the given experiment as the\n",
    "# active experiment. The experiment must either be specified\n",
    "# by name via `experiment_name` or by ID via `experiment_id`.\n",
    "mlflow.set_experiment(\"sklearn_creditcard_guided_search\")\n",
    "\n",
    "logs = []\n",
    "'''\n",
    "logs list keeps records of the results of the `sk_model` \n",
    "given its parametes  `x_validate[test]` and `y_validate[test]`,\n",
    "as well the results of the predictions `preds` given its\n",
    "parameters of `sk_model.predict(x_validate[test])` \n",
    "for each run of anomaly weights `anomaly_weights` \n",
    "and for each of the five folds per `anomaly_weights`. \n",
    "'''\n",
    "# empty dictionary for results\n",
    "d={'FoldNum':[],\"AnomWe\":[],\"AUC\":[],\"EvalAcc\":[]} \n",
    "Folds = []\n",
    "AnomWeights = []\n",
    "AUCPerFoldAW = []\n",
    "AccuPerFoldAW = []\n",
    "\n",
    "# The first loop goes over each of the anomaly weights.\n",
    "for f in range(len(anomaly_weights)):\n",
    "    # We set the fold=1 to initiate the fold number per \n",
    "    # each 'anomaly_weights' round.\n",
    "    fold = 1 \n",
    "    auc_scores= []\n",
    "    accuracies = []\n",
    "  \n",
    "    for train, test in kfold.split(x_validate, y_validate):\n",
    "        # starts to run the experiment and logging metrics\n",
    "        # and artifacts\n",
    "        with mlflow.start_run():\n",
    "            weight = anomaly_weights[f]\n",
    "            # logs current anomaly_weight value\n",
    "            mlflow.log_param(\"anomaly_weight\", weight)\n",
    "            # set the class_weights dictionary and pass it into the \n",
    "            # model as a hyperparameter.\n",
    "            class_weights= { 0:1, 1: weight }\n",
    "            sk_model = LogisticRegression(random_state=None,\n",
    "                                          max_iter=400,\n",
    "                                          solver='newton-cg',\n",
    "                                          class_weight=class_weights).fit(x_validate[train],y_validate[train])\n",
    "            \n",
    "            for h in range(40):\n",
    "                train_acc = sk_model.score(x_validate[train], y_validate[train])\n",
    "                mlflow.log_metric(\"train_acc\", train_acc)\n",
    "                eval_acc = sk_model.score(x_validate[test],y_validate[test])\n",
    "                preds = sk_model.predict(x_validate[test])\n",
    "                mlflow.log_metric(\"eval_acc\", eval_acc)\n",
    "                try:\n",
    "                    auc_score = roc_auc_score(y_validate[test], preds)\n",
    "                except:\n",
    "                    auc_score = -1\n",
    "        \n",
    "            mlflow.log_metric(\"auc_score\", auc_score)\n",
    "            \n",
    "            \n",
    "            Folds.append(fold)\n",
    "            AnomWeights.append(weight)\n",
    "            AUCPerFoldAW.append(eval_acc)\n",
    "            AccuPerFoldAW.append(auc_score)\n",
    "\n",
    "            print('---------------', end=\"\")\n",
    "            print(f\"\\nfold {fold}\\nAnomaly Weight: {weight}\")\n",
    "            print(\"AUC: {}\\neval_acc: {}\".format(auc_score, eval_acc))\n",
    "            accuracies.append(eval_acc)\n",
    "            auc_scores.append(auc_score)\n",
    "            log = [sk_model, x_validate[test], y_validate[test], preds]\n",
    "            logs.append(log)\n",
    "            mlflow.sklearn.log_model(sk_model, f\"anom_weight_{weight}_fold_{fold}\")\n",
    "                        \n",
    "            fold = fold + 1\n",
    "            mlflow.end_run()\n",
    "            \n",
    "    print('\\n++++++++++++++++', end=\"\")\n",
    "    print(\"\\nAverages for Anomaly Weight:\", weight)\n",
    "    print(\"AUC: \", np.mean(auc_scores))\n",
    "    print(\"Accuracy: \", np.mean(accuracies))\n",
    "    print('++++++++++++++++', end=\"\")\n",
    "\n",
    "\n",
    "#updates de directory       \n",
    "d.update({'FoldNum':Folds,\n",
    "          \"AnomWe\":AnomWeights,\n",
    "          \"AUC\":AUCPerFoldAW,\n",
    "          \"EvalAcc\":AccuPerFoldAW})\n",
    "\n",
    "print('\\n/////////////////', end=\"\")\n",
    "print(\"\\n Total Averages: \")\n",
    "print(\"AUC: \", np.mean(auc_scores))\n",
    "print(\"Accuracy: \", np.mean(accuracies))\n",
    "print(\"Best: \")\n",
    "print(\"AUC: \", np.max(auc_scores))\n",
    "print(\"Accuracy: \", np.max(accuracies))"
   ]
  },
  {
   "cell_type": "markdown",
   "id": "01b068f3-2fa3-43f7-a2d6-3bdd85426044",
   "metadata": {},
   "source": [
    "Now you can run this code. Once it finishes, go back to the UI, refresh it, and select the new experiment named sklearn_creditcard_guided_search. "
   ]
  },
  {
   "cell_type": "markdown",
   "id": "e512c4fb-bde0-44a7-b5ba-048aecd8050f",
   "metadata": {},
   "source": [
    "The whole point of broadening the range of anomaly weights that you are performing the tuning experiment on is to help you understand where the best hyperparameter range may lie. You did not know this initially, so you picked a range that was too small to help you discover the best value. Now that you do know, you have expanded your search range considerably.\n",
    "\n",
    "From the results of this experiment, you can hopefully narrow your range a lot more and repeat the experiment with a massively reduced range and arrive at the correct hyperparameter setting.\n",
    "\n",
    "You will now filter out each of the values by each unique anomaly weight (10, 50, 100, 150, and 200) to get an idea of how the runs with that setting performed"
   ]
  },
  {
   "cell_type": "markdown",
   "id": "51ebe624-da86-4456-bbc9-0be236c95b53",
   "metadata": {},
   "source": [
    "Averages for Anomaly Weight: 10 <br>\n",
    "AUC:  0.9214920858175297<br>\n",
    "**Accuracy:  0.9984227743510024**<br>\n",
    "\n",
    "Averages for Anomaly Weight: 50<br>\n",
    "AUC:  0.9247505170837659<br>\n",
    "Accuracy:  0.994462154108037<br>\n",
    "\n",
    "Averages for Anomaly Weight: 100<br>\n",
    "AUC:  0.9326652039576586<br>\n",
    "Accuracy:  0.9903263043134993<br>\n",
    "\n",
    "Averages for Anomaly Weight: 150<br>\n",
    "AUC:  0.93652513497249<br>\n",
    "Accuracy:  0.9863306393885642<br>\n",
    "\n",
    "Averages for Anomaly Weight: 200<br>\n",
    "**AUC:  0.9395730983624768**<br>\n",
    "Accuracy:  0.9824751101994336<br>"
   ]
  },
  {
   "cell_type": "markdown",
   "id": "6fa74700-2a85-4423-a57d-3c23bc1d6645",
   "metadata": {},
   "source": [
    "So, from this, you know that the best hyperparameter setting is somewhere above 200. You simply shift the range of the scope to start at 200 and search over a slightly different area, and once you have found a good range of values to search over (eventually the AUC scores will start trending down as you increase the anomaly weight), you can narrow the focus and start searching again.\n",
    "\n",
    "After a certain amount of precision with the parameter value, you start to see diminishing returns where the added effort only produces negligible improvements in performance, but you will likely encounter this as you start getting deeper into the decimal values."
   ]
  },
  {
   "cell_type": "markdown",
   "id": "0aa30d0f-6716-4d35-a391-65f1507c15ba",
   "metadata": {},
   "source": [
    "[Return to Contents of credit card dataset analysis](#1MLF1)"
   ]
  },
  {
   "cell_type": "markdown",
   "id": "7f5ac951-4531-408d-b5c6-806d12103f84",
   "metadata": {},
   "source": [
    "<a id='8MLF1'></a>\n",
    "## 8. Deploying the Model on Local Model Serving mode"
   ]
  },
  {
   "cell_type": "markdown",
   "id": "784b26cd-ed60-4f77-b0fe-4c522305206a",
   "metadata": {},
   "source": [
    "Serving and querying models locally is very easy and can be done in the command line. You only need the experiment ID and the run ID to serve the model. This is where the print statement from earlier can apply, as it prints the run ID of that specific run. If you just want to serve the latest model, you may do so using that ID. Otherwise, you can look in the MLFlow UI, select a model run that\n",
    "suits your needs, and paste the run this way."
   ]
  },
  {
   "cell_type": "markdown",
   "id": "8ab5b18a-2707-4f70-a72d-9911530ee4e9",
   "metadata": {},
   "source": [
    "Before you begin, go to the MLFlow UI once again, and click the experiment `scikit_learn_experiment`. Pick a run and copy the run ID. Don’t forget the **model name that you logged the model with either, which should be `log_reg_model`**."
   ]
  },
  {
   "cell_type": "markdown",
   "id": "1731b058-2f0e-4112-8b98-08df25df31db",
   "metadata": {},
   "source": [
    "scikit_learn_experiment<br>\n",
    "powerful-hawk-442<br>\n",
    "Run ID\n",
    "cd38920dad234123895c8d4ff278a96d"
   ]
  },
  {
   "cell_type": "markdown",
   "id": "a797f7c2-85d6-4a1b-b36d-a787762dedf0",
   "metadata": {},
   "source": [
    "You may create a new notebook at this point to keep the code more organized. Otherwise, but be sure to import the following:"
   ]
  },
  {
   "cell_type": "code",
   "execution_count": 79,
   "id": "bf373b86-940a-4610-a89d-80e0d85a5e08",
   "metadata": {},
   "outputs": [],
   "source": [
    "import subprocess\n",
    "import json\n",
    "from sklearn.metrics import accuracy_score"
   ]
  },
  {
   "cell_type": "markdown",
   "id": "eb0add13-6bd1-4a32-a9ea-2a7b243dbeb9",
   "metadata": {},
   "source": [
    "Now, open up your command prompt/terminal so that you can begin to serve your local model. First, you need to change your directory to one that contains the mlruns folder with all your experiments. Next, you need two things: your model run and your model name.\n",
    "\n",
    "Again, your model run can be anything you pick from the MLFlow UI or it can simply be the latest run. The model name is whatever you set it to when logging the model. In this case, it will be `log_reg_model`.\n",
    "\n",
    "Once you have that, run the following command in your command prompt/terminal. We have generalized the command, so be sure to replace the fields with your model run and model name, respectively:"
   ]
  },
  {
   "cell_type": "markdown",
   "id": "c570a27c-84e5-4330-98ec-a17bb33595ba",
   "metadata": {},
   "source": [
    "#mlflow models serve --model-uri runs:/YOUR_MODEL_RUN/YOUR_MODEL_NAME -p 1235\n",
    "\n",
    "mlflow models serve --model-uri runs:/cd38920dad234123895c8d4ff278a96d/log_reg_model -p 1235"
   ]
  },
  {
   "cell_type": "markdown",
   "id": "6ca2f521-5b91-4c12-80c3-ac1631a0f460",
   "metadata": {},
   "source": [
    "MLFlow should start constructing a new conda environment right away that it will use to serve locally. In this environment, it installs basic packages and specific packages that the model needs to be able to run."
   ]
  },
  {
   "cell_type": "markdown",
   "id": "aa4613ab-645b-4f38-a4aa-57f94c8c0279",
   "metadata": {},
   "source": [
    "MLFlow should create a new conda environment before hosting the model on your local server. The port option -p lets you set a specific port to host the model on.\n",
    "\n",
    "We selected a specific port so that we can have MLFlow UI running at the same time, as both of them default to port 5000. In our case, our MLFlow UI is running on port 1234, so we are serving the model on port 1235."
   ]
  },
  {
   "cell_type": "markdown",
   "id": "f2c92e05-007f-4ede-aa93-a41dc0d9839a",
   "metadata": {},
   "source": [
    "[Return to Contents of credit card dataset analysis](#1MLF1)"
   ]
  },
  {
   "cell_type": "markdown",
   "id": "3ca7ed1f-6ce4-4246-ba7c-d1217820bf3b",
   "metadata": {},
   "source": [
    "<a id='9MLF1'></a>\n",
    "## 9. Querying the Model"
   ]
  },
  {
   "cell_type": "markdown",
   "id": "674d09b3-f1d9-4d32-b794-51a2b36c10d9",
   "metadata": {},
   "source": [
    "Once we see in the terminal a messaga simmilar to \"...Serving on http://127.0.0.1:1234\" you are now ready to query the model with data and receive predictions.\n",
    "\n",
    "This is where the subprocess module comes in, and you’ll see why shortly.\n",
    "First, let’s load up your data frame again. Run the following code:"
   ]
  },
  {
   "cell_type": "code",
   "execution_count": 72,
   "id": "460efb5c-50b2-4af2-a0a7-df8778a696ec",
   "metadata": {},
   "outputs": [],
   "source": [
    "df = pd.read_csv(\"creditcard.csv\")"
   ]
  },
  {
   "cell_type": "markdown",
   "id": "51d2caea-3602-4b3a-95fa-f3bfec1cfdbe",
   "metadata": {},
   "source": [
    "[Return to Contents of credit card dataset analysis](#1MLF1)"
   ]
  },
  {
   "cell_type": "markdown",
   "id": "335b409e-c825-4814-8b60-d32a3d5fecc6",
   "metadata": {},
   "source": [
    "<a id='91MLF1'></a>\n",
    "### 9.1 Querying Without Scaling"
   ]
  },
  {
   "cell_type": "markdown",
   "id": "b55f2396-6736-461b-a555-56cc023e48ea",
   "metadata": {},
   "source": [
    "Next, select 80 values from your data frame to query your model with.\n",
    "You will keep the selection of 80 values from earlier and query the model.\n",
    "The model accepts data in the JSON format, so you will have to convert the format of your data before sending it to the model. \n",
    "Run the following code:"
   ]
  },
  {
   "cell_type": "code",
   "execution_count": 73,
   "id": "bd4a2996-96ba-46a6-a34e-bbefa35a1a93",
   "metadata": {},
   "outputs": [],
   "source": [
    "# Converting a selection of 80 rows, dropping the Time and Class columns\n",
    "# since they were dropped in the original x_train used to train the model,\n",
    "# to a JSON with a split orient\n",
    "input_json = df.iloc[:80].drop([\"Time\", \"Class\"], axis=1).to_json(orient=\"split\")"
   ]
  },
  {
   "cell_type": "markdown",
   "id": "f46cf888-681c-4d0f-b096-d0ce26720af4",
   "metadata": {},
   "source": [
    "The next step is important because of how you preprocessed the data before training your model originally. To show why it’s so important, we will quickly demonstrate the difference in evaluation metrics from passing in non-scaled data and scaled data. First of all, here is the code to send data to the model and receive predictions back:"
   ]
  },
  {
   "cell_type": "code",
   "execution_count": 74,
   "id": "d97dd1f9-e5b6-462f-8f9c-236acb54cef7",
   "metadata": {},
   "outputs": [],
   "source": [
    "proc = subprocess.run([\"curl\", \"-X\", \"POST\", \"-H\",\n",
    "                       \"Content-Type:application/json; format=pandas-split\",\n",
    "                       \"--data\", input_json, \"http://127.0.0.1:1235/invocations\"],\n",
    "                      stdout=subprocess.PIPE, encoding='utf-8')"
   ]
  },
  {
   "cell_type": "code",
   "execution_count": 75,
   "id": "d06bd520-76dc-4206-a7dd-4aedc01f2702",
   "metadata": {},
   "outputs": [],
   "source": [
    "output = proc.stdout"
   ]
  },
  {
   "cell_type": "code",
   "execution_count": 76,
   "id": "a7254f38-f442-41ba-9f1b-babec377c260",
   "metadata": {},
   "outputs": [
    {
     "data": {
      "text/html": [
       "<div>\n",
       "<style scoped>\n",
       "    .dataframe tbody tr th:only-of-type {\n",
       "        vertical-align: middle;\n",
       "    }\n",
       "\n",
       "    .dataframe tbody tr th {\n",
       "        vertical-align: top;\n",
       "    }\n",
       "\n",
       "    .dataframe thead th {\n",
       "        text-align: right;\n",
       "    }\n",
       "</style>\n",
       "<table border=\"1\" class=\"dataframe\">\n",
       "  <thead>\n",
       "    <tr style=\"text-align: right;\">\n",
       "      <th></th>\n",
       "      <th>0</th>\n",
       "      <th>1</th>\n",
       "      <th>2</th>\n",
       "      <th>3</th>\n",
       "      <th>4</th>\n",
       "      <th>5</th>\n",
       "      <th>6</th>\n",
       "      <th>7</th>\n",
       "      <th>8</th>\n",
       "      <th>9</th>\n",
       "      <th>...</th>\n",
       "      <th>70</th>\n",
       "      <th>71</th>\n",
       "      <th>72</th>\n",
       "      <th>73</th>\n",
       "      <th>74</th>\n",
       "      <th>75</th>\n",
       "      <th>76</th>\n",
       "      <th>77</th>\n",
       "      <th>78</th>\n",
       "      <th>79</th>\n",
       "    </tr>\n",
       "  </thead>\n",
       "  <tbody>\n",
       "    <tr>\n",
       "      <th>0</th>\n",
       "      <td>1</td>\n",
       "      <td>0</td>\n",
       "      <td>1</td>\n",
       "      <td>1</td>\n",
       "      <td>1</td>\n",
       "      <td>0</td>\n",
       "      <td>0</td>\n",
       "      <td>1</td>\n",
       "      <td>1</td>\n",
       "      <td>0</td>\n",
       "      <td>...</td>\n",
       "      <td>1</td>\n",
       "      <td>0</td>\n",
       "      <td>0</td>\n",
       "      <td>0</td>\n",
       "      <td>0</td>\n",
       "      <td>0</td>\n",
       "      <td>1</td>\n",
       "      <td>1</td>\n",
       "      <td>0</td>\n",
       "      <td>0</td>\n",
       "    </tr>\n",
       "  </tbody>\n",
       "</table>\n",
       "<p>1 rows × 80 columns</p>\n",
       "</div>"
      ],
      "text/plain": [
       "   0   1   2   3   4   5   6   7   8   9   ...  70  71  72  73  74  75  76  \\\n",
       "0   1   0   1   1   1   0   0   1   1   0  ...   1   0   0   0   0   0   1   \n",
       "\n",
       "   77  78  79  \n",
       "0   1   0   0  \n",
       "\n",
       "[1 rows x 80 columns]"
      ]
     },
     "execution_count": 76,
     "metadata": {},
     "output_type": "execute_result"
    }
   ],
   "source": [
    "df2 = pd.DataFrame([json.loads(output)])\n",
    "df2"
   ]
  },
  {
   "cell_type": "markdown",
   "id": "436437cd-c311-459e-8c15-d00efa2f1975",
   "metadata": {},
   "source": [
    "The list of predictions that you get after querying the model with input_json has a lot of anomalies. This is the first red flag that indicates something’s wrong"
   ]
  },
  {
   "cell_type": "markdown",
   "id": "52d1fe30-148e-4658-ace3-d1aad2cfe0e5",
   "metadata": {},
   "source": [
    "Essentially, what this does is run the following command within Python itself:\n",
    "\n",
    "curl -X POST -H \"Content-Type:application/json;\n",
    "format=pandas-split\" –data \"CONTENT_OF_INPUT_JSON\"\n",
    "\"http://127.0.0.1:1235/invocations\""
   ]
  },
  {
   "cell_type": "markdown",
   "id": "be50fc19-258c-4ee6-b187-fe62564a3b61",
   "metadata": {},
   "source": [
    "The core of the problem is that if you are running this in command line, pasting the JSON format data of the data frame can get very messy because there’s so many columns. That is why we chose to use subprocess as it is easier to directly pass in the JSON itself using a variable name, input_json in this case, to hold the contents of the JSON."
   ]
  },
  {
   "cell_type": "markdown",
   "id": "3ba4f2a7-1567-4f4f-becf-a320d50a5347",
   "metadata": {},
   "source": [
    "The resulting data frame is what you get by converting the predictions that you got back from the model into a data frame. Since you have the true predictions, let’s calculate an AUC score and an accuracy score to see how the model did. Run the following code:"
   ]
  },
  {
   "cell_type": "code",
   "execution_count": 80,
   "id": "7c8e214d-6359-4803-ad57-c3e324ea13a5",
   "metadata": {},
   "outputs": [
    {
     "name": "stdout",
     "output_type": "stream",
     "text": [
      "Eval Acc 0.6625\n",
      "Eval AUC 0.3291139240506329\n"
     ]
    },
    {
     "name": "stderr",
     "output_type": "stream",
     "text": [
      "C:\\Users\\conza\\Anaconda3\\envs\\TFKERAS\\lib\\site-packages\\pandas\\core\\indexing.py:1732: SettingWithCopyWarning: \n",
      "A value is trying to be set on a copy of a slice from a DataFrame\n",
      "\n",
      "See the caveats in the documentation: https://pandas.pydata.org/pandas-docs/stable/user_guide/indexing.html#returning-a-view-versus-a-copy\n",
      "  self._setitem_single_block(indexer, value, name)\n"
     ]
    }
   ],
   "source": [
    "y_true = df.iloc[:80].Class\n",
    "df2 = df2.T\n",
    "eval_acc = accuracy_score(y_true, df2)\n",
    "y_true.iloc[-1] = 1\n",
    "eval_auc = roc_auc_score(y_true, df2)\n",
    "print(\"Eval Acc\", eval_acc)\n",
    "print(\"Eval AUC\", eval_auc)"
   ]
  },
  {
   "cell_type": "markdown",
   "id": "28b1c0a9-d36e-4406-92ad-6e6b7a7319f8",
   "metadata": {},
   "source": [
    "First of all, you had to transpose df2 using .T so that you can get the predictions to be in a Pandas Series format. Next, the AUC score cannot be calculated if one of the arrays y_true or y_preds only have one class. In this case, y_true is only comprised of normal values, so you had to manipulate the last value and make it 1 when it really isn’t just to get an AUC score. **Of course, the resulting AUC score is nonsense, but the accuracy score reveals that the model has performed very poorly**."
   ]
  },
  {
   "cell_type": "markdown",
   "id": "9fd82ea5-94c7-45a2-a0cf-f4deff65b048",
   "metadata": {},
   "source": [
    "As the accuracy score is horrible, it basically means that the model doesn’t know the difference between the anomalies and the normal points, but seems to have some idea about normal points.\n",
    "\n",
    "**The reason the model did so poorly despite doing so well during the training process is that the input data has not been scaled**. You will see the difference in model performance when you now scale the data before passing it in."
   ]
  },
  {
   "cell_type": "markdown",
   "id": "d4f52f39-de7e-4dcc-b0bc-f8c0db42bc3f",
   "metadata": {},
   "source": [
    "[Return to Contents of credit card dataset analysis](#1MLF1)"
   ]
  },
  {
   "cell_type": "markdown",
   "id": "b3250080-9f27-4dff-8e90-15fc7ccf278f",
   "metadata": {},
   "source": [
    "<a id='92MLF1'></a>\n",
    "### 9.2 Querying with Scaling"
   ]
  },
  {
   "cell_type": "markdown",
   "id": "30c9e1b9-5edd-4a1b-b8b3-4d145a71d9ae",
   "metadata": {},
   "source": [
    "You will take the same split of data except you will now scale it before passing it in. Run the following code to recreate the data that you used to fit the scaler when training the model originally."
   ]
  },
  {
   "cell_type": "code",
   "execution_count": 81,
   "id": "09865c7d-80d0-429e-b16d-bd2c1d71766a",
   "metadata": {},
   "outputs": [
    {
     "data": {
      "text/plain": [
       "StandardScaler()"
      ]
     },
     "execution_count": 81,
     "metadata": {},
     "output_type": "execute_result"
    }
   ],
   "source": [
    "normal = df[df.Class == 0].sample(frac=0.5, random_state=2020).reset_index(drop=True)\n",
    "anomaly = df[df.Class == 1]\n",
    "normal_train, normal_test = train_test_split(normal,test_size = 0.2,\n",
    "                                             random_state = 2020)\n",
    "anomaly_train, anomaly_test = train_test_split(anomaly, test_size = 0.2,\n",
    "                                               random_state = 2020)\n",
    "scaler = StandardScaler()\n",
    "scaler.fit(pd.concat((normal, anomaly)).drop([\"Time\", \"Class\"],axis=1))"
   ]
  },
  {
   "cell_type": "markdown",
   "id": "9beeb249-3ab7-462e-8dfb-cd684b28fed5",
   "metadata": {},
   "source": [
    "Using this, you will transform your new sample of data and pass it into the model.\n",
    "Now that you have fit the scaler, let’s transform your data selection:"
   ]
  },
  {
   "cell_type": "code",
   "execution_count": 82,
   "id": "7e81e8b2-3abc-4622-9c5b-bd81b5334696",
   "metadata": {},
   "outputs": [],
   "source": [
    "scaled_selection = scaler.transform(df.iloc[:80].drop([\"Time\", \"Class\"], axis=1))\n",
    "input_json = pd.DataFrame(scaled_selection).to_json(orient=\"split\")"
   ]
  },
  {
   "cell_type": "code",
   "execution_count": 83,
   "id": "6d67e229-51e6-40e1-89a3-e99fba46d3f0",
   "metadata": {},
   "outputs": [
    {
     "data": {
      "text/html": [
       "<div>\n",
       "<style scoped>\n",
       "    .dataframe tbody tr th:only-of-type {\n",
       "        vertical-align: middle;\n",
       "    }\n",
       "\n",
       "    .dataframe tbody tr th {\n",
       "        vertical-align: top;\n",
       "    }\n",
       "\n",
       "    .dataframe thead th {\n",
       "        text-align: right;\n",
       "    }\n",
       "</style>\n",
       "<table border=\"1\" class=\"dataframe\">\n",
       "  <thead>\n",
       "    <tr style=\"text-align: right;\">\n",
       "      <th></th>\n",
       "      <th>0</th>\n",
       "      <th>1</th>\n",
       "      <th>2</th>\n",
       "      <th>3</th>\n",
       "      <th>4</th>\n",
       "      <th>5</th>\n",
       "      <th>6</th>\n",
       "      <th>7</th>\n",
       "      <th>8</th>\n",
       "      <th>9</th>\n",
       "      <th>...</th>\n",
       "      <th>70</th>\n",
       "      <th>71</th>\n",
       "      <th>72</th>\n",
       "      <th>73</th>\n",
       "      <th>74</th>\n",
       "      <th>75</th>\n",
       "      <th>76</th>\n",
       "      <th>77</th>\n",
       "      <th>78</th>\n",
       "      <th>79</th>\n",
       "    </tr>\n",
       "  </thead>\n",
       "  <tbody>\n",
       "    <tr>\n",
       "      <th>0</th>\n",
       "      <td>0</td>\n",
       "      <td>0</td>\n",
       "      <td>0</td>\n",
       "      <td>0</td>\n",
       "      <td>0</td>\n",
       "      <td>0</td>\n",
       "      <td>0</td>\n",
       "      <td>0</td>\n",
       "      <td>0</td>\n",
       "      <td>0</td>\n",
       "      <td>...</td>\n",
       "      <td>0</td>\n",
       "      <td>0</td>\n",
       "      <td>0</td>\n",
       "      <td>0</td>\n",
       "      <td>0</td>\n",
       "      <td>0</td>\n",
       "      <td>0</td>\n",
       "      <td>0</td>\n",
       "      <td>0</td>\n",
       "      <td>0</td>\n",
       "    </tr>\n",
       "  </tbody>\n",
       "</table>\n",
       "<p>1 rows × 80 columns</p>\n",
       "</div>"
      ],
      "text/plain": [
       "   0   1   2   3   4   5   6   7   8   9   ...  70  71  72  73  74  75  76  \\\n",
       "0   0   0   0   0   0   0   0   0   0   0  ...   0   0   0   0   0   0   0   \n",
       "\n",
       "   77  78  79  \n",
       "0   0   0   0  \n",
       "\n",
       "[1 rows x 80 columns]"
      ]
     },
     "execution_count": 83,
     "metadata": {},
     "output_type": "execute_result"
    }
   ],
   "source": [
    "proc = subprocess.run([\"curl\", \"-X\", \"POST\", \"-H\",\n",
    "                       \"Content-Type:application/json; format=pandas-split\",\n",
    "                       \"--data\", input_json, \n",
    "                       \"http://127.0.0.1:1235/invocations\"],\n",
    "                      stdout=subprocess.PIPE, encoding='utf-8')\n",
    "output = proc.stdout\n",
    "preds = pd.DataFrame([json.loads(output)])\n",
    "preds"
   ]
  },
  {
   "cell_type": "markdown",
   "id": "0e3fcb13-67a8-4c03-a1e0-ef57934b1ea7",
   "metadata": {},
   "source": [
    "By querying the model with the scaled values, from a  first glance, the predictions appear to be correct this time around.\n",
    "\n",
    "One thing to note is that you are scaling it on the combination of all normal data and all anomaly data, as you did when you were creating the train, test, and validation splits. \n",
    "\n",
    "Since the model was trained on data that was scaled on the partition of data you used in the training process (the training, testing, and validation data together), passing in data scaled differently won’t result in the correct predictions. When you scale the new data, it must be scaled after fitting it on the training set."
   ]
  },
  {
   "cell_type": "markdown",
   "id": "b9c92dab-d0ac-4426-910e-c155ade6ee20",
   "metadata": {},
   "source": [
    "<span style='background :beige'>One problem that may eventually arise is that new data might have a different distribution than the original training data. This could lead to performance issues with the model, but really that’s a sign that you need to train your model to update it on the new data.</span>"
   ]
  },
  {
   "cell_type": "code",
   "execution_count": 84,
   "id": "b76b0541-9d46-4958-b2b6-90912a16d475",
   "metadata": {},
   "outputs": [
    {
     "name": "stdout",
     "output_type": "stream",
     "text": [
      "Eval Acc 0.9875\n",
      "Eval AUC 0.5\n"
     ]
    },
    {
     "name": "stderr",
     "output_type": "stream",
     "text": [
      "C:\\Users\\conza\\Anaconda3\\envs\\TFKERAS\\lib\\site-packages\\pandas\\core\\indexing.py:1732: SettingWithCopyWarning: \n",
      "A value is trying to be set on a copy of a slice from a DataFrame\n",
      "\n",
      "See the caveats in the documentation: https://pandas.pydata.org/pandas-docs/stable/user_guide/indexing.html#returning-a-view-versus-a-copy\n",
      "  self._setitem_single_block(indexer, value, name)\n"
     ]
    }
   ],
   "source": [
    "# now lets check how our model performs with the scaled data\n",
    "y_true = df.iloc[:80].Class\n",
    "preds = preds.T\n",
    "eval_acc = accuracy_score(y_true, preds)\n",
    "y_true.iloc[-1] = 1\n",
    "eval_auc = roc_auc_score(y_true, preds)\n",
    "print(\"Eval Acc\", eval_acc)\n",
    "print(\"Eval AUC\", eval_auc)"
   ]
  },
  {
   "cell_type": "markdown",
   "id": "94707c4d-e7b4-4d76-8660-1b893a3d846b",
   "metadata": {},
   "source": [
    "The accuracy score is far better, but it will need more prediction data with both normal and anomaly values to be able to get AUC scores (we only used 80 records out of about 28,500).\n",
    "\n",
    "As we can see, the accuracy score is noticeably higher, and the model’s performance is reminiscent of when it was trained and evaluated.\n",
    "Unfortunately, the AUC score isn’t a very accurate reflection of the model’s performance since the samples you are querying the model with only have normal data.\n",
    "\n",
    "Let’s see how the model performs when you query it with a larger sample of data."
   ]
  },
  {
   "cell_type": "markdown",
   "id": "2bfd2c18-84e9-48fd-ad78-3de89e32a2a1",
   "metadata": {},
   "source": [
    "[Return to Contents of credit card dataset analysis](#1MLF1)"
   ]
  },
  {
   "cell_type": "markdown",
   "id": "2b1527c9-16e6-4c70-a398-7acd6afd014f",
   "metadata": {},
   "source": [
    "<a id='93MLF1'></a>\n",
    "### 9.3 Batch Querying"
   ]
  },
  {
   "cell_type": "markdown",
   "id": "b79df7dd-d14d-4436-b092-763449b808f1",
   "metadata": {},
   "source": [
    "Unfortunately, there is a limit to how many data samples you can ask the model to make predictions on. The number 80 is really close to the maximum number of samples you can send at one time. So how do you get around this issue and make predictions on more than just 80 samples? For one, you can try batching the samples and making predictions one batch at a time.\n",
    "\n",
    "In the following code you are selecting the first 8,000 samples from the data frame. Snce the batch size is 80, you have 100 batches that you are passing to the\n",
    "model. Of course, you must scale this data as well before passing it in. You will scale it in a manner similar to how you did it earlier: you will fit the scaler on the same normal and anomaly data that you used in the model training pipeline samples to transform the values you want to send to the model.\n",
    "\n",
    "This ight take several seconds to finish, so sit tight!"
   ]
  },
  {
   "cell_type": "code",
   "execution_count": 89,
   "id": "9cf4e66f-4e18-4d64-8014-90bf18d78f7b",
   "metadata": {},
   "outputs": [
    {
     "name": "stdout",
     "output_type": "stream",
     "text": [
      "Eval Acc 0.9995\n",
      "Eval AUC 0.9230769230769231\n"
     ]
    }
   ],
   "source": [
    "test = df.iloc[:8000]\n",
    "true = test.Class\n",
    "test = scaler.transform(test.drop([\"Time\", \"Class\"], axis=1))\n",
    "preds = []\n",
    "batch_size = 80\n",
    "for f in range(100):\n",
    "    sample = pd.DataFrame(test[f*batch_size:(f+1)*batch_size]).to_json(orient=\"split\")\n",
    "    proc = subprocess.run([\"curl\", \"-X\", \"POST\", \"-H\",\n",
    "                           \"Content-Type:application/json;format=pandas-split\",\n",
    "                           \"--data\",\n",
    "                           sample,\n",
    "                           \"http://127.0.0.1:1235/invocations\"],\n",
    "                          stdout=subprocess.PIPE,\n",
    "                          encoding='utf-8')\n",
    "    output = proc.stdout\n",
    "    resp = pd.DataFrame([json.loads(output)])\n",
    "    preds = np.concatenate((preds, resp.values[0]))\n",
    "    \n",
    "eval_acc = accuracy_score(true, preds)\n",
    "eval_auc = roc_auc_score(true, preds)\n",
    "print(\"Eval Acc\", eval_acc)\n",
    "print(\"Eval AUC\", eval_auc)"
   ]
  },
  {
   "cell_type": "markdown",
   "id": "0f744c11-8c76-4c39-80f9-072c73452dd2",
   "metadata": {},
   "source": [
    "This time, you don’t have to worry about only having one class in the entire data. This is because there are examples of anomalies in this selection of 8,000 data points, so the true labels and predictions should contain samples of both classes."
   ]
  },
  {
   "cell_type": "markdown",
   "id": "62f555b1-79af-4cb4-bc7c-1135c8687974",
   "metadata": {},
   "source": [
    "You can see that the model performs quite well on this data, which includes data that the model has never seen before. Although you did end up using all of the anomalies when training the data, the model still performs well on the normal data, as evidenced by the relatively high AUC score.\n",
    "\n",
    "In fact, let’s plot a confusion matrix to see how the model did and what’s bringing down the AUC score. Run the following code:"
   ]
  },
  {
   "cell_type": "code",
   "execution_count": 90,
   "id": "90ca929f-ab90-43d4-9490-e34a80946134",
   "metadata": {},
   "outputs": [
    {
     "data": {
      "text/plain": [
       "Text(0.5, 1.0, 'Confusion Matrix')"
      ]
     },
     "execution_count": 90,
     "metadata": {},
     "output_type": "execute_result"
    },
    {
     "data": {
      "image/png": "[encoded data removed]",
      "text/plain": [
       "<Figure size 1400x800 with 2 Axes>"
      ]
     },
     "metadata": {},
     "output_type": "display_data"
    }
   ],
   "source": [
    "conf_matrix = confusion_matrix(true, preds)\n",
    "ax = sns.heatmap(conf_matrix, annot=True,fmt='g')\n",
    "ax.invert_xaxis()\n",
    "ax.invert_yaxis()\n",
    "plt.ylabel('Actual')\n",
    "plt.xlabel('Predicted')\n",
    "plt.title(\"Confusion Matrix\")"
   ]
  },
  {
   "cell_type": "markdown",
   "id": "28b72a97-f157-4eb5-a961-6678d7157855",
   "metadata": {},
   "source": [
    "As you can see, the confusion matrix shows that the model has performed very well on this data. Not only did it classify the normal points perfectly, but it even classified most of the anomaly points correctly as well.\n",
    "\n",
    "With that, you hopefully know more about the process of deploying and querying a model. When you deploy to a cloud platform, the querying process follows a similar path where you must deploy a model on the cloud platform and query it by sending in the data in a JSON format."
   ]
  },
  {
   "cell_type": "markdown",
   "id": "a16e127a-9a59-4a4c-8c9d-c2ee7022d72d",
   "metadata": {},
   "source": [
    "<a id='RefMLF1lrskl'></a>\n",
    "## References"
   ]
  },
  {
   "cell_type": "markdown",
   "id": "1a7954f8-e465-4801-86b8-5d618e8fa0fb",
   "metadata": {},
   "source": [
    "Alla, S., & Adari, S. (2021). Beginning MLOps with MLFlow: Deploy Models in AWS SageMaker, Google Cloud, and Microsoft Azure. Apress."
   ]
  },
  {
   "cell_type": "markdown",
   "id": "c271a285-e3e0-405b-9208-20d188665926",
   "metadata": {},
   "source": [
    "[Return to Contents of credit card dataset analysis](#1MLF1)"
   ]
  },
  {
   "cell_type": "code",
   "execution_count": null,
   "id": "2d4c8582-49c2-417d-aaf2-850c2c49b246",
   "metadata": {},
   "outputs": [],
   "source": []
  }
 ],
 "metadata": {
  "kernelspec": {
   "display_name": "Python 3 (ipykernel)",
   "language": "python",
   "name": "python3"
  },
  "language_info": {
   "codemirror_mode": {
    "name": "ipython",
    "version": 3
   },
   "file_extension": ".py",
   "mimetype": "text/x-python",
   "name": "python",
   "nbconvert_exporter": "python",
   "pygments_lexer": "ipython3",
   "version": "3.7.13"
  }
 },
 "nbformat": 4,
 "nbformat_minor": 5
}
